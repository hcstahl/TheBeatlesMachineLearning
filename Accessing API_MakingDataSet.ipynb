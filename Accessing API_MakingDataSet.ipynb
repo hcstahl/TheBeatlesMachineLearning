{
 "cells": [
  {
   "cell_type": "code",
   "execution_count": 1,
   "id": "8bbd2ebf",
   "metadata": {},
   "outputs": [],
   "source": [
    "import spotipy\n",
    "import requests\n",
    "from IPython.display import HTML\n",
    "import pandas as pd\n",
    "from spotipy.oauth2 import SpotifyClientCredentials\n",
    "pd.set_option('display.max_colwidth', None)\n",
    "import numpy as np"
   ]
  },
  {
   "cell_type": "markdown",
   "id": "935809b6",
   "metadata": {},
   "source": [
    "# Setting up API"
   ]
  },
  {
   "cell_type": "code",
   "execution_count": 2,
   "id": "af18a2e8",
   "metadata": {},
   "outputs": [],
   "source": [
    "hide_me = ''\n",
    "HTML('''<script>\n",
    "code_show=true; \n",
    "function code_toggle() {\n",
    "  if (code_show) {\n",
    "    $('div.input').each(function(id) {\n",
    "      el = $(this).find('.cm-variable:first');\n",
    "      if (id == 0 || el.text() == 'hide_me') {\n",
    "        $(this).hide();\n",
    "      }\n",
    "    });\n",
    "    $('div.output_prompt').css('opacity', 0);\n",
    "  } else {\n",
    "    $('div.input').each(function(id) {\n",
    "      $(this).show();\n",
    "    });\n",
    "    $('div.output_prompt').css('opacity', 1);\n",
    "  }\n",
    "  code_show = !code_show\n",
    "} \n",
    "$( document ).ready(code_toggle);\n",
    "</script>\n",
    "<form action=\"javascript:code_toggle()\"><input style=\"opacity:0\" type=\"submit\" value=\"Click here to toggle on/off the raw code.\"></form>''')\n",
    "\n",
    "\n",
    "\n",
    "\n",
    "\n",
    "CLIENT_ID = ''\n",
    "CLIENT_SECRET =''"
   ]
  },
  {
   "cell_type": "code",
   "execution_count": 3,
   "id": "9919c337",
   "metadata": {},
   "outputs": [],
   "source": [
    "AUTH_URL = 'https://accounts.spotify.com/api/token'\n",
    "\n",
    "# POST\n",
    "auth_response = requests.post(AUTH_URL, {\n",
    "    'grant_type': 'client_credentials',\n",
    "    'client_id': CLIENT_ID,\n",
    "    'client_secret': CLIENT_SECRET,\n",
    "})\n",
    "\n",
    "# convert the response to JSON\n",
    "auth_response_data = auth_response.json()\n",
    "\n",
    "# save the access token\n",
    "access_token = auth_response_data['access_token']"
   ]
  },
  {
   "cell_type": "code",
   "execution_count": 4,
   "id": "be6ddc87",
   "metadata": {},
   "outputs": [],
   "source": [
    "headers = {\n",
    "    'Authorization': 'Bearer {token}'.format(token=access_token)\n",
    "}"
   ]
  },
  {
   "cell_type": "markdown",
   "id": "06cd392f",
   "metadata": {},
   "source": [
    "# Beatles URL ID"
   ]
  },
  {
   "cell_type": "code",
   "execution_count": 5,
   "id": "c4aa7ba3",
   "metadata": {},
   "outputs": [],
   "source": [
    "artistid = '3WrFJ7ztbogyGnTHbHJFl2'"
   ]
  },
  {
   "cell_type": "code",
   "execution_count": 6,
   "id": "279ce9c6",
   "metadata": {},
   "outputs": [],
   "source": [
    "BASE_URL = 'https://api.spotify.com/v1/'"
   ]
  },
  {
   "cell_type": "markdown",
   "id": "a30b2f9d",
   "metadata": {},
   "source": [
    "# Getting Tracks associate with album"
   ]
  },
  {
   "cell_type": "code",
   "execution_count": 7,
   "id": "5c896148",
   "metadata": {},
   "outputs": [],
   "source": [
    "r = requests.get(BASE_URL + 'artists/' + artistid + '/albums', \n",
    "                 headers=headers, \n",
    "                 params={'include_groups': 'album', 'limit': 50,'country':'US'})\n",
    "d = r.json()"
   ]
  },
  {
   "cell_type": "code",
   "execution_count": 8,
   "id": "7189ba8b",
   "metadata": {},
   "outputs": [
    {
     "name": "stdout",
     "output_type": "stream",
     "text": [
      "Get Back (Rooftop Performance) , 2022-01-28\n",
      "Let It Be (Super Deluxe) , 2021-10-15\n",
      "Abbey Road (Super Deluxe Edition) , 2019-09-27\n",
      "The Beatles , 2018-11-09\n",
      "Live At The Hollywood Bowl , 2016-09-09\n",
      "Let It Be... Naked (Remastered) , 2014-01-01\n",
      "Yellow Submarine Songtrack , 2014-01-01\n",
      "On Air - Live At The BBC (Vol.2) , 2013-11-11\n",
      "1 (Remastered) , 2000-11-13\n",
      "Live At The BBC (Remastered) , 1994-11-30\n",
      "Let It Be (Remastered) , 1970-05-08\n",
      "Abbey Road (Remastered) , 1969-09-26\n",
      "Yellow Submarine (Remastered) , 1969-01-17\n",
      "The Beatles (Remastered) , 1968-11-22\n",
      "Magical Mystery Tour (Remastered) , 1967-11-27\n",
      "Sgt. Pepper's Lonely Hearts Club Band (Deluxe Edition) , 1967-06-01\n",
      "Sgt. Pepper's Lonely Hearts Club Band (Remastered) , 1967-06-01\n",
      "Sgt. Pepper's Lonely Hearts Club Band (Super Deluxe Edition) , 1967-05-26\n",
      "Revolver (Remastered) , 1966-08-05\n",
      "Rubber Soul (Remastered) , 1965-12-03\n",
      "Help! (Remastered) , 1965-08-06\n",
      "Beatles For Sale (Remastered) , 1964-12-04\n",
      "A Hard Day's Night (Remastered) , 1964-07-10\n",
      "With The Beatles (Remastered) , 1963-11-22\n",
      "Please Please Me (Remastered) , 1963-03-22\n"
     ]
    }
   ],
   "source": [
    "for album in d['items']:\n",
    "    print(album['name'], ',' ,album['release_date'])"
   ]
  },
  {
   "cell_type": "markdown",
   "id": "c33850ac",
   "metadata": {},
   "source": [
    "# Getting Tracks in each album"
   ]
  },
  {
   "cell_type": "code",
   "execution_count": 9,
   "id": "dea6af22",
   "metadata": {},
   "outputs": [],
   "source": [
    "data = []   # will hold all track info\n",
    "albums = [] # to keep track of duplicates"
   ]
  },
  {
   "cell_type": "code",
   "execution_count": 10,
   "id": "4c7369dd",
   "metadata": {},
   "outputs": [
    {
     "data": {
      "text/plain": [
       "[]"
      ]
     },
     "execution_count": 10,
     "metadata": {},
     "output_type": "execute_result"
    }
   ],
   "source": [
    "data"
   ]
  },
  {
   "cell_type": "code",
   "execution_count": 11,
   "id": "12b6a46c",
   "metadata": {},
   "outputs": [
    {
     "name": "stdout",
     "output_type": "stream",
     "text": [
      "Let It Be (Remastered)\n",
      "Abbey Road (Remastered)\n",
      "Yellow Submarine (Remastered)\n",
      "The Beatles (Remastered)\n",
      "Magical Mystery Tour (Remastered)\n",
      "Sgt. Pepper's Lonely Hearts Club Band (Deluxe Edition)\n",
      "Revolver (Remastered)\n",
      "Rubber Soul (Remastered)\n",
      "Help! (Remastered)\n",
      "Beatles For Sale (Remastered)\n",
      "A Hard Day's Night (Remastered)\n",
      "With The Beatles (Remastered)\n",
      "Please Please Me (Remastered)\n"
     ]
    }
   ],
   "source": [
    "# loop over albums and get all tracks\n",
    "for album in d['items']:\n",
    "    album_name = album['name']\n",
    "\n",
    "    # here's a hacky way to skip over albums we've already grabbed\n",
    "    trim_name = album_name.split('(')[0].strip()\n",
    "    if trim_name.upper() in albums or int(album['release_date'][:4]) > 1971:\n",
    "        continue\n",
    "    albums.append(trim_name.upper()) # use upper() to standardize\n",
    "    \n",
    "    print(album_name)\n",
    "    \n",
    "    # pull all tracks from this album\n",
    "    r = requests.get(BASE_URL + 'albums/' + album['id'] + '/tracks', \n",
    "        headers=headers)\n",
    "    tracks = r.json()['items']\n",
    "    \n",
    "    for track in tracks:\n",
    "        # get audio features (key, liveness, danceability, ...)\n",
    "        f = requests.get(BASE_URL + 'audio-features/' + track['id'], \n",
    "            headers=headers)\n",
    "        f = f.json()\n",
    "        \n",
    "        # combine with album info\n",
    "        f.update({\n",
    "            'track_name': track['name'],\n",
    "            'track_number':track[\"track_number\"],\n",
    "            'short_album_name': trim_name,\n",
    "            'release_date': album['release_date'],\n",
    "            'album_cover': album['images'][0]['url']\n",
    "        })\n",
    "        \n",
    "        data.append(f)"
   ]
  },
  {
   "cell_type": "markdown",
   "id": "6c834433",
   "metadata": {},
   "source": [
    "# Converting to a Data Frame"
   ]
  },
  {
   "cell_type": "code",
   "execution_count": 12,
   "id": "51bbb5af",
   "metadata": {},
   "outputs": [],
   "source": [
    "df = pd.DataFrame(data)"
   ]
  },
  {
   "cell_type": "markdown",
   "id": "e8648b2b",
   "metadata": {},
   "source": [
    "So we can see the full url for the album image "
   ]
  },
  {
   "cell_type": "code",
   "execution_count": 13,
   "id": "b0b16ee3",
   "metadata": {},
   "outputs": [],
   "source": [
    "pd.options.display.float_format = '{:,.2f}'.format"
   ]
  },
  {
   "cell_type": "code",
   "execution_count": 14,
   "id": "c6068568",
   "metadata": {},
   "outputs": [],
   "source": [
    "# convert release_date to an actual date, and sort by it"
   ]
  },
  {
   "cell_type": "code",
   "execution_count": 15,
   "id": "f20debae",
   "metadata": {},
   "outputs": [],
   "source": [
    "df['release_date'] = pd.to_datetime(df['release_date'])"
   ]
  },
  {
   "cell_type": "code",
   "execution_count": 16,
   "id": "340968d2",
   "metadata": {},
   "outputs": [],
   "source": [
    "df = df.sort_values(by='release_date')"
   ]
  },
  {
   "cell_type": "code",
   "execution_count": 17,
   "id": "79d77b68",
   "metadata": {},
   "outputs": [],
   "source": [
    "df['duration_seconds'] = df['duration_ms']*0.001"
   ]
  },
  {
   "cell_type": "markdown",
   "id": "e6b193d2",
   "metadata": {},
   "source": [
    "# Clean title track column with only the title name\n",
    "a lot of tracks have -Remastered"
   ]
  },
  {
   "cell_type": "code",
   "execution_count": 18,
   "id": "fdb79f2a",
   "metadata": {},
   "outputs": [],
   "source": [
    "df[\"track_name\"]=df['track_name'].str.split('-', expand=True)[0]\n"
   ]
  },
  {
   "cell_type": "markdown",
   "id": "25a46826",
   "metadata": {},
   "source": [
    "# Drop columns not useful in analysis "
   ]
  },
  {
   "cell_type": "code",
   "execution_count": 19,
   "id": "27dcd5b9",
   "metadata": {},
   "outputs": [
    {
     "data": {
      "text/plain": [
       "danceability        0\n",
       "energy              0\n",
       "key                 0\n",
       "loudness            0\n",
       "mode                0\n",
       "speechiness         0\n",
       "acousticness        0\n",
       "instrumentalness    0\n",
       "liveness            0\n",
       "valence             0\n",
       "tempo               0\n",
       "type                0\n",
       "id                  0\n",
       "uri                 0\n",
       "track_href          0\n",
       "analysis_url        0\n",
       "duration_ms         0\n",
       "time_signature      0\n",
       "track_name          0\n",
       "track_number        0\n",
       "short_album_name    0\n",
       "release_date        0\n",
       "album_cover         0\n",
       "duration_seconds    0\n",
       "dtype: int64"
      ]
     },
     "execution_count": 19,
     "metadata": {},
     "output_type": "execute_result"
    }
   ],
   "source": [
    "df.isnull().sum()"
   ]
  },
  {
   "cell_type": "code",
   "execution_count": 20,
   "id": "c4b03d0e",
   "metadata": {
    "scrolled": true
   },
   "outputs": [],
   "source": [
    "df.drop('type', inplace=True, axis=1)"
   ]
  },
  {
   "cell_type": "code",
   "execution_count": 21,
   "id": "54d949b7",
   "metadata": {},
   "outputs": [],
   "source": [
    "df.drop('uri', inplace=True, axis=1)"
   ]
  },
  {
   "cell_type": "code",
   "execution_count": 22,
   "id": "d23bcca4",
   "metadata": {},
   "outputs": [],
   "source": [
    "df.drop('id', inplace=True, axis=1)"
   ]
  },
  {
   "cell_type": "code",
   "execution_count": 23,
   "id": "b740241c",
   "metadata": {},
   "outputs": [],
   "source": [
    "df.drop('track_href', inplace=True, axis=1)"
   ]
  },
  {
   "cell_type": "code",
   "execution_count": 24,
   "id": "1a8f1cd2",
   "metadata": {},
   "outputs": [],
   "source": [
    "df.drop('duration_ms', inplace=True, axis=1)"
   ]
  },
  {
   "cell_type": "code",
   "execution_count": 25,
   "id": "f55daaa2",
   "metadata": {},
   "outputs": [],
   "source": [
    "df.drop('analysis_url', inplace=True, axis=1)"
   ]
  },
  {
   "cell_type": "code",
   "execution_count": 26,
   "id": "e13b1f5e",
   "metadata": {},
   "outputs": [
    {
     "data": {
      "text/plain": [
       "array(['Please Please Me', 'With The Beatles', \"A Hard Day's Night\",\n",
       "       'Beatles For Sale', 'Help!', 'Rubber Soul', 'Revolver',\n",
       "       \"Sgt. Pepper's Lonely Hearts Club Band\", 'Magical Mystery Tour',\n",
       "       'The Beatles', 'Yellow Submarine', 'Abbey Road', 'Let It Be'],\n",
       "      dtype=object)"
      ]
     },
     "execution_count": 26,
     "metadata": {},
     "output_type": "execute_result"
    }
   ],
   "source": [
    "df[\"short_album_name\"].unique()"
   ]
  },
  {
   "cell_type": "markdown",
   "id": "f606ba37",
   "metadata": {},
   "source": [
    "# Creating first track and last track column"
   ]
  },
  {
   "cell_type": "code",
   "execution_count": 27,
   "id": "34243b06",
   "metadata": {},
   "outputs": [],
   "source": [
    "df['track1'] = np.where(df['track_number']== 1, 1, 0)"
   ]
  },
  {
   "cell_type": "code",
   "execution_count": 28,
   "id": "eef3a5f0",
   "metadata": {},
   "outputs": [],
   "source": [
    "#df[df[\"short_album_name\"]==\"Help!\"] # 14 tracks\n",
    "#df[df[\"short_album_name\"]==\"Let It Be\"] 12\n",
    "#df[df[\"short_album_name\"]==\"Rubber Soul\"] 14\n",
    "#df[df[\"short_album_name\"]==\"Revolver\"]#14\n",
    "#df[df[\"short_album_name\"]==\"A Hard Day's Night\"] 13\n",
    "#df[df[\"short_album_name\"]==\"Sgt. Pepper's Lonely Hearts Club Band\"] #13\n",
    "#df[df[\"short_album_name\"]==\"Magical Mystery Tour\"] 11\n",
    "#df[df[\"short_album_name\"]==\"The Beatles\"] #17\n",
    "#df[df[\"short_album_name\"]==\"With The Beatles\"] 14\n",
    "#df[df[\"short_album_name\"]==\"Beatles For Sale\"] #14\n",
    "#df[df[\"short_album_name\"]==\"Yellow Submarine\"] #13\n",
    "#df[df[\"short_album_name\"]==\"Please Please Me\"] #14\n",
    "#df[df[\"short_album_name\"]==\"Abbey Road\"] # 17 tracks\n"
   ]
  },
  {
   "cell_type": "code",
   "execution_count": 29,
   "id": "03e1c8fc",
   "metadata": {},
   "outputs": [],
   "source": [
    "conditions = [\n",
    "    (df['track_number'] == 14)& (df['short_album_name'] ==\"Help!\"),\n",
    "    (df['track_number'] == 12)& (df['short_album_name'] ==\"Let It Be\"),\n",
    "    (df['track_number'] == 14)& (df['short_album_name'] ==\"Rubber Soul\"),\n",
    "    (df['track_number'] == 14)& (df['short_album_name'] ==\"Revolver\"),\n",
    "    (df['track_number'] == 13)& (df['short_album_name'] ==\"A Hard Day's Night\"),\n",
    "    (df['track_number'] == 13)& (df['short_album_name'] ==\"Sgt. Pepper's Lonely Hearts Club Band\"),\n",
    "    (df['track_number'] == 11)& (df['short_album_name'] ==\"Magical Mystery Tour\"),\n",
    "    (df['track_number'] == 17)& (df['short_album_name'] ==\"The Beatles\"),\n",
    "    (df['track_number'] == 14)& (df['short_album_name'] ==\"With The Beatles\"),\n",
    "    (df['track_number'] == 14)& (df['short_album_name'] ==\"Beatles For Sale\"),\n",
    "    (df['track_number'] == 13)& (df['short_album_name'] ==\"Yellow Submarine\"),\n",
    "    (df['track_number'] == 14)& (df['short_album_name'] ==\"Please Please Me\"),\n",
    "    (df['track_number'] == 17)& (df['short_album_name'] ==\"Abbey Road\"),\n",
    "     ]\n",
    "\n",
    "# create a list of the values we want to assign for each condition\n",
    "values = [1,1,1,1,1,1,1,1,1,1,1,1,1]\n",
    "\n",
    "# create a new column and use np.select to assign values to it using our lists as arguments\n",
    "df['last_track'] = np.select(conditions, values)"
   ]
  },
  {
   "cell_type": "code",
   "execution_count": 32,
   "id": "34c5db3e",
   "metadata": {},
   "outputs": [
    {
     "data": {
      "text/html": [
       "<div>\n",
       "<style scoped>\n",
       "    .dataframe tbody tr th:only-of-type {\n",
       "        vertical-align: middle;\n",
       "    }\n",
       "\n",
       "    .dataframe tbody tr th {\n",
       "        vertical-align: top;\n",
       "    }\n",
       "\n",
       "    .dataframe thead th {\n",
       "        text-align: right;\n",
       "    }\n",
       "</style>\n",
       "<table border=\"1\" class=\"dataframe\">\n",
       "  <thead>\n",
       "    <tr style=\"text-align: right;\">\n",
       "      <th></th>\n",
       "      <th>danceability</th>\n",
       "      <th>energy</th>\n",
       "      <th>key</th>\n",
       "      <th>loudness</th>\n",
       "      <th>mode</th>\n",
       "      <th>speechiness</th>\n",
       "      <th>acousticness</th>\n",
       "      <th>instrumentalness</th>\n",
       "      <th>liveness</th>\n",
       "      <th>valence</th>\n",
       "      <th>tempo</th>\n",
       "      <th>time_signature</th>\n",
       "      <th>track_name</th>\n",
       "      <th>track_number</th>\n",
       "      <th>short_album_name</th>\n",
       "      <th>release_date</th>\n",
       "      <th>album_cover</th>\n",
       "      <th>duration_seconds</th>\n",
       "      <th>track1</th>\n",
       "      <th>last_track</th>\n",
       "    </tr>\n",
       "  </thead>\n",
       "  <tbody>\n",
       "    <tr>\n",
       "      <th>189</th>\n",
       "      <td>0.48</td>\n",
       "      <td>0.85</td>\n",
       "      <td>2</td>\n",
       "      <td>-9.20</td>\n",
       "      <td>1</td>\n",
       "      <td>0.05</td>\n",
       "      <td>0.64</td>\n",
       "      <td>0.00</td>\n",
       "      <td>0.04</td>\n",
       "      <td>0.94</td>\n",
       "      <td>124.63</td>\n",
       "      <td>4</td>\n",
       "      <td>Twist And Shout</td>\n",
       "      <td>14</td>\n",
       "      <td>Please Please Me</td>\n",
       "      <td>1963-03-22</td>\n",
       "      <td>https://i.scdn.co/image/ab67616d0000b273dbeec63ad914c973e75c24df</td>\n",
       "      <td>155.23</td>\n",
       "      <td>0</td>\n",
       "      <td>1</td>\n",
       "    </tr>\n",
       "    <tr>\n",
       "      <th>176</th>\n",
       "      <td>0.49</td>\n",
       "      <td>0.80</td>\n",
       "      <td>4</td>\n",
       "      <td>-9.84</td>\n",
       "      <td>1</td>\n",
       "      <td>0.04</td>\n",
       "      <td>0.27</td>\n",
       "      <td>0.00</td>\n",
       "      <td>0.07</td>\n",
       "      <td>0.97</td>\n",
       "      <td>160.11</td>\n",
       "      <td>4</td>\n",
       "      <td>I Saw Her Standing There</td>\n",
       "      <td>1</td>\n",
       "      <td>Please Please Me</td>\n",
       "      <td>1963-03-22</td>\n",
       "      <td>https://i.scdn.co/image/ab67616d0000b273dbeec63ad914c973e75c24df</td>\n",
       "      <td>173.95</td>\n",
       "      <td>1</td>\n",
       "      <td>0</td>\n",
       "    </tr>\n",
       "    <tr>\n",
       "      <th>177</th>\n",
       "      <td>0.59</td>\n",
       "      <td>0.60</td>\n",
       "      <td>0</td>\n",
       "      <td>-10.93</td>\n",
       "      <td>1</td>\n",
       "      <td>0.04</td>\n",
       "      <td>0.71</td>\n",
       "      <td>0.00</td>\n",
       "      <td>0.31</td>\n",
       "      <td>0.88</td>\n",
       "      <td>133.35</td>\n",
       "      <td>4</td>\n",
       "      <td>Misery</td>\n",
       "      <td>2</td>\n",
       "      <td>Please Please Me</td>\n",
       "      <td>1963-03-22</td>\n",
       "      <td>https://i.scdn.co/image/ab67616d0000b273dbeec63ad914c973e75c24df</td>\n",
       "      <td>108.55</td>\n",
       "      <td>0</td>\n",
       "      <td>0</td>\n",
       "    </tr>\n",
       "    <tr>\n",
       "      <th>178</th>\n",
       "      <td>0.61</td>\n",
       "      <td>0.56</td>\n",
       "      <td>2</td>\n",
       "      <td>-11.06</td>\n",
       "      <td>1</td>\n",
       "      <td>0.03</td>\n",
       "      <td>0.64</td>\n",
       "      <td>0.00</td>\n",
       "      <td>0.06</td>\n",
       "      <td>0.83</td>\n",
       "      <td>109.29</td>\n",
       "      <td>4</td>\n",
       "      <td>Anna (Go To Him)</td>\n",
       "      <td>3</td>\n",
       "      <td>Please Please Me</td>\n",
       "      <td>1963-03-22</td>\n",
       "      <td>https://i.scdn.co/image/ab67616d0000b273dbeec63ad914c973e75c24df</td>\n",
       "      <td>177.13</td>\n",
       "      <td>0</td>\n",
       "      <td>0</td>\n",
       "    </tr>\n",
       "    <tr>\n",
       "      <th>179</th>\n",
       "      <td>0.65</td>\n",
       "      <td>0.56</td>\n",
       "      <td>10</td>\n",
       "      <td>-10.55</td>\n",
       "      <td>1</td>\n",
       "      <td>0.03</td>\n",
       "      <td>0.61</td>\n",
       "      <td>0.00</td>\n",
       "      <td>0.13</td>\n",
       "      <td>0.93</td>\n",
       "      <td>129.88</td>\n",
       "      <td>4</td>\n",
       "      <td>Chains</td>\n",
       "      <td>4</td>\n",
       "      <td>Please Please Me</td>\n",
       "      <td>1963-03-22</td>\n",
       "      <td>https://i.scdn.co/image/ab67616d0000b273dbeec63ad914c973e75c24df</td>\n",
       "      <td>145.08</td>\n",
       "      <td>0</td>\n",
       "      <td>0</td>\n",
       "    </tr>\n",
       "    <tr>\n",
       "      <th>...</th>\n",
       "      <td>...</td>\n",
       "      <td>...</td>\n",
       "      <td>...</td>\n",
       "      <td>...</td>\n",
       "      <td>...</td>\n",
       "      <td>...</td>\n",
       "      <td>...</td>\n",
       "      <td>...</td>\n",
       "      <td>...</td>\n",
       "      <td>...</td>\n",
       "      <td>...</td>\n",
       "      <td>...</td>\n",
       "      <td>...</td>\n",
       "      <td>...</td>\n",
       "      <td>...</td>\n",
       "      <td>...</td>\n",
       "      <td>...</td>\n",
       "      <td>...</td>\n",
       "      <td>...</td>\n",
       "      <td>...</td>\n",
       "    </tr>\n",
       "    <tr>\n",
       "      <th>8</th>\n",
       "      <td>0.55</td>\n",
       "      <td>0.83</td>\n",
       "      <td>4</td>\n",
       "      <td>-6.43</td>\n",
       "      <td>1</td>\n",
       "      <td>0.07</td>\n",
       "      <td>0.03</td>\n",
       "      <td>0.00</td>\n",
       "      <td>0.91</td>\n",
       "      <td>0.89</td>\n",
       "      <td>90.95</td>\n",
       "      <td>4</td>\n",
       "      <td>One After 909</td>\n",
       "      <td>9</td>\n",
       "      <td>Let It Be</td>\n",
       "      <td>1970-05-08</td>\n",
       "      <td>https://i.scdn.co/image/ab67616d0000b27384243a01af3c77b56fe01ab1</td>\n",
       "      <td>173.96</td>\n",
       "      <td>0</td>\n",
       "      <td>0</td>\n",
       "    </tr>\n",
       "    <tr>\n",
       "      <th>10</th>\n",
       "      <td>0.88</td>\n",
       "      <td>0.56</td>\n",
       "      <td>2</td>\n",
       "      <td>-10.77</td>\n",
       "      <td>1</td>\n",
       "      <td>0.09</td>\n",
       "      <td>0.24</td>\n",
       "      <td>0.05</td>\n",
       "      <td>0.24</td>\n",
       "      <td>0.95</td>\n",
       "      <td>128.54</td>\n",
       "      <td>4</td>\n",
       "      <td>For You Blue</td>\n",
       "      <td>11</td>\n",
       "      <td>Let It Be</td>\n",
       "      <td>1970-05-08</td>\n",
       "      <td>https://i.scdn.co/image/ab67616d0000b27384243a01af3c77b56fe01ab1</td>\n",
       "      <td>152.21</td>\n",
       "      <td>0</td>\n",
       "      <td>0</td>\n",
       "    </tr>\n",
       "    <tr>\n",
       "      <th>11</th>\n",
       "      <td>0.76</td>\n",
       "      <td>0.59</td>\n",
       "      <td>2</td>\n",
       "      <td>-9.84</td>\n",
       "      <td>1</td>\n",
       "      <td>0.06</td>\n",
       "      <td>0.49</td>\n",
       "      <td>0.01</td>\n",
       "      <td>0.61</td>\n",
       "      <td>0.33</td>\n",
       "      <td>123.09</td>\n",
       "      <td>4</td>\n",
       "      <td>Get Back</td>\n",
       "      <td>12</td>\n",
       "      <td>Let It Be</td>\n",
       "      <td>1970-05-08</td>\n",
       "      <td>https://i.scdn.co/image/ab67616d0000b27384243a01af3c77b56fe01ab1</td>\n",
       "      <td>189.39</td>\n",
       "      <td>0</td>\n",
       "      <td>1</td>\n",
       "    </tr>\n",
       "    <tr>\n",
       "      <th>6</th>\n",
       "      <td>0.52</td>\n",
       "      <td>0.52</td>\n",
       "      <td>2</td>\n",
       "      <td>-12.04</td>\n",
       "      <td>0</td>\n",
       "      <td>0.21</td>\n",
       "      <td>0.38</td>\n",
       "      <td>0.00</td>\n",
       "      <td>0.10</td>\n",
       "      <td>0.52</td>\n",
       "      <td>169.04</td>\n",
       "      <td>4</td>\n",
       "      <td>Maggie Mae</td>\n",
       "      <td>7</td>\n",
       "      <td>Let It Be</td>\n",
       "      <td>1970-05-08</td>\n",
       "      <td>https://i.scdn.co/image/ab67616d0000b27384243a01af3c77b56fe01ab1</td>\n",
       "      <td>40.04</td>\n",
       "      <td>0</td>\n",
       "      <td>0</td>\n",
       "    </tr>\n",
       "    <tr>\n",
       "      <th>0</th>\n",
       "      <td>0.73</td>\n",
       "      <td>0.70</td>\n",
       "      <td>7</td>\n",
       "      <td>-10.76</td>\n",
       "      <td>1</td>\n",
       "      <td>0.03</td>\n",
       "      <td>0.10</td>\n",
       "      <td>0.00</td>\n",
       "      <td>0.24</td>\n",
       "      <td>0.93</td>\n",
       "      <td>109.11</td>\n",
       "      <td>4</td>\n",
       "      <td>Two Of Us</td>\n",
       "      <td>1</td>\n",
       "      <td>Let It Be</td>\n",
       "      <td>1970-05-08</td>\n",
       "      <td>https://i.scdn.co/image/ab67616d0000b27384243a01af3c77b56fe01ab1</td>\n",
       "      <td>216.81</td>\n",
       "      <td>1</td>\n",
       "      <td>0</td>\n",
       "    </tr>\n",
       "  </tbody>\n",
       "</table>\n",
       "<p>190 rows × 20 columns</p>\n",
       "</div>"
      ],
      "text/plain": [
       "     danceability  energy  key  loudness  mode  speechiness  acousticness  \\\n",
       "189          0.48    0.85    2     -9.20     1         0.05          0.64   \n",
       "176          0.49    0.80    4     -9.84     1         0.04          0.27   \n",
       "177          0.59    0.60    0    -10.93     1         0.04          0.71   \n",
       "178          0.61    0.56    2    -11.06     1         0.03          0.64   \n",
       "179          0.65    0.56   10    -10.55     1         0.03          0.61   \n",
       "..            ...     ...  ...       ...   ...          ...           ...   \n",
       "8            0.55    0.83    4     -6.43     1         0.07          0.03   \n",
       "10           0.88    0.56    2    -10.77     1         0.09          0.24   \n",
       "11           0.76    0.59    2     -9.84     1         0.06          0.49   \n",
       "6            0.52    0.52    2    -12.04     0         0.21          0.38   \n",
       "0            0.73    0.70    7    -10.76     1         0.03          0.10   \n",
       "\n",
       "     instrumentalness  liveness  valence  tempo  time_signature  \\\n",
       "189              0.00      0.04     0.94 124.63               4   \n",
       "176              0.00      0.07     0.97 160.11               4   \n",
       "177              0.00      0.31     0.88 133.35               4   \n",
       "178              0.00      0.06     0.83 109.29               4   \n",
       "179              0.00      0.13     0.93 129.88               4   \n",
       "..                ...       ...      ...    ...             ...   \n",
       "8                0.00      0.91     0.89  90.95               4   \n",
       "10               0.05      0.24     0.95 128.54               4   \n",
       "11               0.01      0.61     0.33 123.09               4   \n",
       "6                0.00      0.10     0.52 169.04               4   \n",
       "0                0.00      0.24     0.93 109.11               4   \n",
       "\n",
       "                    track_name  track_number  short_album_name release_date  \\\n",
       "189           Twist And Shout             14  Please Please Me   1963-03-22   \n",
       "176  I Saw Her Standing There              1  Please Please Me   1963-03-22   \n",
       "177                    Misery              2  Please Please Me   1963-03-22   \n",
       "178          Anna (Go To Him)              3  Please Please Me   1963-03-22   \n",
       "179                    Chains              4  Please Please Me   1963-03-22   \n",
       "..                         ...           ...               ...          ...   \n",
       "8               One After 909              9         Let It Be   1970-05-08   \n",
       "10               For You Blue             11         Let It Be   1970-05-08   \n",
       "11                   Get Back             12         Let It Be   1970-05-08   \n",
       "6                  Maggie Mae              7         Let It Be   1970-05-08   \n",
       "0                   Two Of Us              1         Let It Be   1970-05-08   \n",
       "\n",
       "                                                          album_cover  \\\n",
       "189  https://i.scdn.co/image/ab67616d0000b273dbeec63ad914c973e75c24df   \n",
       "176  https://i.scdn.co/image/ab67616d0000b273dbeec63ad914c973e75c24df   \n",
       "177  https://i.scdn.co/image/ab67616d0000b273dbeec63ad914c973e75c24df   \n",
       "178  https://i.scdn.co/image/ab67616d0000b273dbeec63ad914c973e75c24df   \n",
       "179  https://i.scdn.co/image/ab67616d0000b273dbeec63ad914c973e75c24df   \n",
       "..                                                                ...   \n",
       "8    https://i.scdn.co/image/ab67616d0000b27384243a01af3c77b56fe01ab1   \n",
       "10   https://i.scdn.co/image/ab67616d0000b27384243a01af3c77b56fe01ab1   \n",
       "11   https://i.scdn.co/image/ab67616d0000b27384243a01af3c77b56fe01ab1   \n",
       "6    https://i.scdn.co/image/ab67616d0000b27384243a01af3c77b56fe01ab1   \n",
       "0    https://i.scdn.co/image/ab67616d0000b27384243a01af3c77b56fe01ab1   \n",
       "\n",
       "     duration_seconds  track1  last_track  \n",
       "189            155.23       0           1  \n",
       "176            173.95       1           0  \n",
       "177            108.55       0           0  \n",
       "178            177.13       0           0  \n",
       "179            145.08       0           0  \n",
       "..                ...     ...         ...  \n",
       "8              173.96       0           0  \n",
       "10             152.21       0           0  \n",
       "11             189.39       0           1  \n",
       "6               40.04       0           0  \n",
       "0              216.81       1           0  \n",
       "\n",
       "[190 rows x 20 columns]"
      ]
     },
     "execution_count": 32,
     "metadata": {},
     "output_type": "execute_result"
    }
   ],
   "source": [
    "df"
   ]
  },
  {
   "cell_type": "markdown",
   "id": "48f3af96",
   "metadata": {},
   "source": [
    "# Export Data Frame"
   ]
  },
  {
   "cell_type": "code",
   "execution_count": 30,
   "id": "f75ad77d",
   "metadata": {},
   "outputs": [],
   "source": [
    "df.to_csv(\"beatles.csv\")"
   ]
  }
 ],
 "metadata": {
  "kernelspec": {
   "display_name": "Python 3",
   "language": "python",
   "name": "python3"
  },
  "language_info": {
   "codemirror_mode": {
    "name": "ipython",
    "version": 3
   },
   "file_extension": ".py",
   "mimetype": "text/x-python",
   "name": "python",
   "nbconvert_exporter": "python",
   "pygments_lexer": "ipython3",
   "version": "3.8.8"
  }
 },
 "nbformat": 4,
 "nbformat_minor": 5
}
