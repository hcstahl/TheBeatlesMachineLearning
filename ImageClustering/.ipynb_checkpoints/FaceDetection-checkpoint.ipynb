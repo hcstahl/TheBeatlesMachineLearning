{
 "cells": [
  {
   "cell_type": "code",
   "execution_count": 1,
   "id": "abfd0a6c",
   "metadata": {},
   "outputs": [],
   "source": [
    "import cv2"
   ]
  },
  {
   "cell_type": "code",
   "execution_count": 2,
   "id": "991138b8",
   "metadata": {},
   "outputs": [],
   "source": [
    "PPM = cv2.imread(\"PleasePleaseMe.jpg\");\n",
    "BFS = cv2.imread(\"BeatlesForSale.jpg\");\n",
    "HDN = cv2.imread(\"AHardDaysNight.jpg\");\n",
    "AR = cv2.imread(\"AbbeyRoad.jpg\");\n",
    "Help= cv2.imread(\"Help.jpg\");\n",
    "LIB= cv2.imread(\"LetItBe.jpg\");\n",
    "MMT= cv2.imread(\"Mystery.jpg\");\n",
    "RS= cv2.imread(\"RubberSoul.jpg\");\n",
    "Revolver= cv2.imread(\"Revolver.jpg\");                    \n",
    "Sgt= cv2.imread(\"SgtPepper.jpg\"); \n",
    "WTB= cv2.imread(\"WithTheBeatles.jpg\"); \n",
    "Yellow= cv2.imread(\"YellowSub.jpg\"); "
   ]
  },
  {
   "cell_type": "markdown",
   "id": "57074f10",
   "metadata": {},
   "source": [
    "# Convert to Gray\n",
    "Function uses gray scale only"
   ]
  },
  {
   "cell_type": "code",
   "execution_count": null,
   "id": "99e93025",
   "metadata": {},
   "outputs": [],
   "source": [
    "= cv2.cvtColor(, cv2.COLOR_BGR2GRAY)\n",
    "= cv2.cvtColor(, cv2.COLOR_BGR2GRAY)\n",
    "= cv2.cvtColor(, cv2.COLOR_BGR2GRAY)\n",
    "= cv2.cvtColor(, cv2.COLOR_BGR2GRAY)\n",
    "= cv2.cvtColor(, cv2.COLOR_BGR2GRAY)\n",
    "= cv2.cvtColor(, cv2.COLOR_BGR2GRAY)\n",
    "= cv2.cvtColor(, cv2.COLOR_BGR2GRAY)\n",
    "= cv2.cvtColor(, cv2.COLOR_BGR2GRAY)\n",
    "= cv2.cvtColor(, cv2.COLOR_BGR2GRAY)\n",
    "= cv2.cvtColor(, cv2.COLOR_BGR2GRAY)\n",
    "= cv2.cvtColor(, cv2.COLOR_BGR2GRAY)\n",
    "= cv2.cvtColor(, cv2.COLOR_BGR2GRAY)"
   ]
  },
  {
   "cell_type": "code",
   "execution_count": null,
   "id": "561fa474",
   "metadata": {},
   "outputs": [],
   "source": []
  },
  {
   "cell_type": "code",
   "execution_count": null,
   "id": "a6c3e1f5",
   "metadata": {},
   "outputs": [],
   "source": []
  }
 ],
 "metadata": {
  "kernelspec": {
   "display_name": "Python 3",
   "language": "python",
   "name": "python3"
  },
  "language_info": {
   "codemirror_mode": {
    "name": "ipython",
    "version": 3
   },
   "file_extension": ".py",
   "mimetype": "text/x-python",
   "name": "python",
   "nbconvert_exporter": "python",
   "pygments_lexer": "ipython3",
   "version": "3.8.8"
  }
 },
 "nbformat": 4,
 "nbformat_minor": 5
}
