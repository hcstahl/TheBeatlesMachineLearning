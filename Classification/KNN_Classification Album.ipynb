{
 "cells": [
  {
   "cell_type": "code",
   "execution_count": 1,
   "id": "76281e75",
   "metadata": {},
   "outputs": [],
   "source": [
    "import seaborn as sns\n",
    "import matplotlib.pyplot as plt\n",
    "import numpy as np\n",
    "%matplotlib inline\n",
    "from sklearn.model_selection import cross_val_score\n",
    "import pandas as pd\n",
    "from sklearn.metrics import classification_report\n",
    "from sklearn import preprocessing\n",
    "import numpy as np\n",
    "from sklearn.model_selection import train_test_split\n",
    "from sklearn.neighbors import KNeighborsClassifier\n",
    "from sklearn import metrics\n",
    "from sklearn.model_selection import GridSearchCV"
   ]
  },
  {
   "cell_type": "markdown",
   "id": "b52f3b68",
   "metadata": {},
   "source": [
    "# Importing Data Set with Randomized Index"
   ]
  },
  {
   "cell_type": "code",
   "execution_count": 2,
   "id": "5c9000d0",
   "metadata": {},
   "outputs": [],
   "source": [
    "data = pd.read_csv(\"beatlesrandom.csv\")\n",
    "data = data.rename(columns = {\"Unnamed: 0\":\"INDEX\"})"
   ]
  },
  {
   "cell_type": "code",
   "execution_count": 3,
   "id": "74921c52",
   "metadata": {},
   "outputs": [
    {
     "data": {
      "text/plain": [
       "Index(['INDEX', 'danceability', 'energy', 'key', 'loudness', 'mode',\n",
       "       'speechiness', 'acousticness', 'instrumentalness', 'liveness',\n",
       "       'valence', 'tempo', 'time_signature', 'track_name', 'track_number',\n",
       "       'short_album_name', 'release_date', 'album_cover', 'duration_seconds',\n",
       "       'track1', 'last_track'],\n",
       "      dtype='object')"
      ]
     },
     "execution_count": 3,
     "metadata": {},
     "output_type": "execute_result"
    }
   ],
   "source": [
    "data.columns"
   ]
  },
  {
   "cell_type": "markdown",
   "id": "c910723a",
   "metadata": {},
   "source": [
    "# Removing columns not using for ML yet"
   ]
  },
  {
   "cell_type": "code",
   "execution_count": 4,
   "id": "4f455ee8",
   "metadata": {},
   "outputs": [],
   "source": [
    "data.drop(['INDEX'],inplace=True, axis=1)\n",
    "data.drop(['album_cover'],inplace=True, axis=1)"
   ]
  },
  {
   "cell_type": "code",
   "execution_count": 5,
   "id": "002ff1e9",
   "metadata": {},
   "outputs": [
    {
     "data": {
      "text/html": [
       "<div>\n",
       "<style scoped>\n",
       "    .dataframe tbody tr th:only-of-type {\n",
       "        vertical-align: middle;\n",
       "    }\n",
       "\n",
       "    .dataframe tbody tr th {\n",
       "        vertical-align: top;\n",
       "    }\n",
       "\n",
       "    .dataframe thead th {\n",
       "        text-align: right;\n",
       "    }\n",
       "</style>\n",
       "<table border=\"1\" class=\"dataframe\">\n",
       "  <thead>\n",
       "    <tr style=\"text-align: right;\">\n",
       "      <th></th>\n",
       "      <th>danceability</th>\n",
       "      <th>energy</th>\n",
       "      <th>key</th>\n",
       "      <th>loudness</th>\n",
       "      <th>mode</th>\n",
       "      <th>speechiness</th>\n",
       "      <th>acousticness</th>\n",
       "      <th>instrumentalness</th>\n",
       "      <th>liveness</th>\n",
       "      <th>valence</th>\n",
       "      <th>tempo</th>\n",
       "      <th>time_signature</th>\n",
       "      <th>track_name</th>\n",
       "      <th>track_number</th>\n",
       "      <th>short_album_name</th>\n",
       "      <th>release_date</th>\n",
       "      <th>duration_seconds</th>\n",
       "      <th>track1</th>\n",
       "      <th>last_track</th>\n",
       "    </tr>\n",
       "  </thead>\n",
       "  <tbody>\n",
       "    <tr>\n",
       "      <th>0</th>\n",
       "      <td>0.294</td>\n",
       "      <td>0.407</td>\n",
       "      <td>0</td>\n",
       "      <td>-11.575</td>\n",
       "      <td>1</td>\n",
       "      <td>0.0308</td>\n",
       "      <td>0.0258</td>\n",
       "      <td>0.000219</td>\n",
       "      <td>0.0852</td>\n",
       "      <td>0.0378</td>\n",
       "      <td>101.052</td>\n",
       "      <td>4</td>\n",
       "      <td>Blue Jay Way</td>\n",
       "      <td>4</td>\n",
       "      <td>Magical Mystery Tour</td>\n",
       "      <td>1967-11-27</td>\n",
       "      <td>235.067</td>\n",
       "      <td>0</td>\n",
       "      <td>0</td>\n",
       "    </tr>\n",
       "    <tr>\n",
       "      <th>1</th>\n",
       "      <td>0.612</td>\n",
       "      <td>0.788</td>\n",
       "      <td>0</td>\n",
       "      <td>-6.251</td>\n",
       "      <td>1</td>\n",
       "      <td>0.0335</td>\n",
       "      <td>0.3670</td>\n",
       "      <td>0.000000</td>\n",
       "      <td>0.3820</td>\n",
       "      <td>0.9610</td>\n",
       "      <td>129.161</td>\n",
       "      <td>4</td>\n",
       "      <td>You Can't Do That</td>\n",
       "      <td>12</td>\n",
       "      <td>A Hard Day's Night</td>\n",
       "      <td>1964-07-10</td>\n",
       "      <td>154.893</td>\n",
       "      <td>0</td>\n",
       "      <td>0</td>\n",
       "    </tr>\n",
       "    <tr>\n",
       "      <th>2</th>\n",
       "      <td>0.422</td>\n",
       "      <td>0.656</td>\n",
       "      <td>4</td>\n",
       "      <td>-8.412</td>\n",
       "      <td>1</td>\n",
       "      <td>0.0397</td>\n",
       "      <td>0.0126</td>\n",
       "      <td>0.027900</td>\n",
       "      <td>0.2680</td>\n",
       "      <td>0.5490</td>\n",
       "      <td>173.930</td>\n",
       "      <td>3</td>\n",
       "      <td>Oh! Darling</td>\n",
       "      <td>4</td>\n",
       "      <td>Abbey Road</td>\n",
       "      <td>1969-09-26</td>\n",
       "      <td>207.240</td>\n",
       "      <td>0</td>\n",
       "      <td>0</td>\n",
       "    </tr>\n",
       "    <tr>\n",
       "      <th>3</th>\n",
       "      <td>0.538</td>\n",
       "      <td>0.478</td>\n",
       "      <td>11</td>\n",
       "      <td>-8.957</td>\n",
       "      <td>0</td>\n",
       "      <td>0.0388</td>\n",
       "      <td>0.4720</td>\n",
       "      <td>0.000000</td>\n",
       "      <td>0.1700</td>\n",
       "      <td>0.5270</td>\n",
       "      <td>59.004</td>\n",
       "      <td>4</td>\n",
       "      <td>Dig A Pony</td>\n",
       "      <td>2</td>\n",
       "      <td>Let It Be</td>\n",
       "      <td>1970-05-08</td>\n",
       "      <td>235.000</td>\n",
       "      <td>0</td>\n",
       "      <td>0</td>\n",
       "    </tr>\n",
       "    <tr>\n",
       "      <th>4</th>\n",
       "      <td>0.297</td>\n",
       "      <td>0.613</td>\n",
       "      <td>9</td>\n",
       "      <td>-9.065</td>\n",
       "      <td>1</td>\n",
       "      <td>0.0931</td>\n",
       "      <td>0.0385</td>\n",
       "      <td>0.000040</td>\n",
       "      <td>0.0734</td>\n",
       "      <td>0.3380</td>\n",
       "      <td>170.962</td>\n",
       "      <td>4</td>\n",
       "      <td>Magical Mystery Tour</td>\n",
       "      <td>1</td>\n",
       "      <td>Magical Mystery Tour</td>\n",
       "      <td>1967-11-27</td>\n",
       "      <td>170.107</td>\n",
       "      <td>1</td>\n",
       "      <td>0</td>\n",
       "    </tr>\n",
       "  </tbody>\n",
       "</table>\n",
       "</div>"
      ],
      "text/plain": [
       "   danceability  energy  key  loudness  mode  speechiness  acousticness  \\\n",
       "0         0.294   0.407    0   -11.575     1       0.0308        0.0258   \n",
       "1         0.612   0.788    0    -6.251     1       0.0335        0.3670   \n",
       "2         0.422   0.656    4    -8.412     1       0.0397        0.0126   \n",
       "3         0.538   0.478   11    -8.957     0       0.0388        0.4720   \n",
       "4         0.297   0.613    9    -9.065     1       0.0931        0.0385   \n",
       "\n",
       "   instrumentalness  liveness  valence    tempo  time_signature  \\\n",
       "0          0.000219    0.0852   0.0378  101.052               4   \n",
       "1          0.000000    0.3820   0.9610  129.161               4   \n",
       "2          0.027900    0.2680   0.5490  173.930               3   \n",
       "3          0.000000    0.1700   0.5270   59.004               4   \n",
       "4          0.000040    0.0734   0.3380  170.962               4   \n",
       "\n",
       "              track_name  track_number      short_album_name release_date  \\\n",
       "0          Blue Jay Way              4  Magical Mystery Tour   1967-11-27   \n",
       "1     You Can't Do That             12    A Hard Day's Night   1964-07-10   \n",
       "2           Oh! Darling              4            Abbey Road   1969-09-26   \n",
       "3            Dig A Pony              2             Let It Be   1970-05-08   \n",
       "4  Magical Mystery Tour              1  Magical Mystery Tour   1967-11-27   \n",
       "\n",
       "   duration_seconds  track1  last_track  \n",
       "0           235.067       0           0  \n",
       "1           154.893       0           0  \n",
       "2           207.240       0           0  \n",
       "3           235.000       0           0  \n",
       "4           170.107       1           0  "
      ]
     },
     "execution_count": 5,
     "metadata": {},
     "output_type": "execute_result"
    }
   ],
   "source": [
    "data.head()"
   ]
  },
  {
   "cell_type": "markdown",
   "id": "942d1c69",
   "metadata": {},
   "source": [
    "# Classify songs with their Album by Audio Characteristics \n",
    "Features = X\n",
    "Label = y (short_album_name) "
   ]
  },
  {
   "cell_type": "markdown",
   "id": "df42bf6a",
   "metadata": {},
   "source": [
    "Subsetting data to only be Audio Features"
   ]
  },
  {
   "cell_type": "code",
   "execution_count": 6,
   "id": "e2dda195",
   "metadata": {},
   "outputs": [
    {
     "data": {
      "text/plain": [
       "Index(['danceability', 'energy', 'key', 'loudness', 'mode', 'speechiness',\n",
       "       'acousticness', 'instrumentalness', 'liveness', 'valence', 'tempo',\n",
       "       'time_signature', 'track_name', 'track_number', 'short_album_name',\n",
       "       'release_date', 'duration_seconds', 'track1', 'last_track'],\n",
       "      dtype='object')"
      ]
     },
     "execution_count": 6,
     "metadata": {},
     "output_type": "execute_result"
    }
   ],
   "source": [
    "data.columns"
   ]
  },
  {
   "cell_type": "code",
   "execution_count": 7,
   "id": "46e0fa95",
   "metadata": {},
   "outputs": [],
   "source": [
    "df = data[['danceability', 'energy', 'key', 'loudness', 'mode', 'speechiness',\n",
    "       'acousticness', 'instrumentalness', 'liveness', 'valence', 'tempo',\n",
    "       'time_signature', 'short_album_name','duration_seconds']]"
   ]
  },
  {
   "cell_type": "code",
   "execution_count": 8,
   "id": "869df508",
   "metadata": {},
   "outputs": [
    {
     "data": {
      "text/plain": [
       "1    153\n",
       "0     37\n",
       "Name: mode, dtype: int64"
      ]
     },
     "execution_count": 8,
     "metadata": {},
     "output_type": "execute_result"
    }
   ],
   "source": [
    "df[\"mode\"].value_counts()"
   ]
  },
  {
   "cell_type": "markdown",
   "id": "40955af5",
   "metadata": {},
   "source": [
    "mode is binary and we won't work well in our knn model "
   ]
  },
  {
   "cell_type": "code",
   "execution_count": 9,
   "id": "88c49cdb",
   "metadata": {},
   "outputs": [
    {
     "data": {
      "text/plain": [
       "(190, 14)"
      ]
     },
     "execution_count": 9,
     "metadata": {},
     "output_type": "execute_result"
    }
   ],
   "source": [
    "df = pd.DataFrame(df)\n",
    "df.shape"
   ]
  },
  {
   "cell_type": "markdown",
   "id": "758d57dd",
   "metadata": {},
   "source": [
    "# Knn\n"
   ]
  },
  {
   "cell_type": "code",
   "execution_count": 10,
   "id": "513566be",
   "metadata": {},
   "outputs": [],
   "source": [
    "features = df[['danceability', 'energy', 'key', 'loudness', 'speechiness',\n",
    "       'acousticness', 'instrumentalness', 'liveness', 'valence', 'tempo',\n",
    "       'time_signature','duration_seconds']]\n",
    "label=df[\"short_album_name\"]"
   ]
  },
  {
   "cell_type": "markdown",
   "id": "777e436f",
   "metadata": {},
   "source": [
    "# Scaling Features\n",
    "*need to scale features for this to work properly \n",
    "*All features continious variables \n",
    "*No NA\n"
   ]
  },
  {
   "cell_type": "code",
   "execution_count": 11,
   "id": "7f940c29",
   "metadata": {},
   "outputs": [],
   "source": [
    "features = preprocessing.StandardScaler().fit(features).transform(features.astype(float))"
   ]
  },
  {
   "cell_type": "markdown",
   "id": "793d71ab",
   "metadata": {},
   "source": [
    "# Split training and test set \n",
    "stratify argument to make sure albums are distributed as in the orginal dataset "
   ]
  },
  {
   "cell_type": "markdown",
   "id": "406b3d48",
   "metadata": {},
   "source": [
    "Did a larger test size since the data set is small. "
   ]
  },
  {
   "cell_type": "code",
   "execution_count": 12,
   "id": "f9685390",
   "metadata": {},
   "outputs": [],
   "source": [
    "X_train, X_test, y_train, y_test = train_test_split(features, label, test_size = 0.40,random_state=9,stratify = label)"
   ]
  },
  {
   "cell_type": "code",
   "execution_count": 13,
   "id": "c9e69938",
   "metadata": {},
   "outputs": [
    {
     "name": "stdout",
     "output_type": "stream",
     "text": [
      "(114, 12)\n",
      "(76, 12)\n",
      "(114,)\n",
      "(76,)\n"
     ]
    }
   ],
   "source": [
    "print(X_train.shape)\n",
    "print(X_test.shape)\n",
    "print(y_train.shape)\n",
    "print(y_test.shape)"
   ]
  },
  {
   "cell_type": "markdown",
   "id": "1c420738",
   "metadata": {},
   "source": [
    "# Elbow Method for picking a k value"
   ]
  },
  {
   "cell_type": "code",
   "execution_count": 14,
   "id": "b6a862a7",
   "metadata": {},
   "outputs": [],
   "source": [
    "error_rate = []\n",
    "# see error rate for k values between 1 and 20\n",
    "for i in range(1,21):\n",
    "    \n",
    "    knn = KNeighborsClassifier(n_neighbors=i)\n",
    "    knn.fit(X_train,y_train)\n",
    "    pred_i = knn.predict(X_test)\n",
    "    error_rate.append(np.mean(pred_i != y_test))"
   ]
  },
  {
   "cell_type": "code",
   "execution_count": 15,
   "id": "2e31a1cf",
   "metadata": {},
   "outputs": [
    {
     "data": {
      "text/plain": [
       "Text(0, 0.5, 'Error Rate')"
      ]
     },
     "execution_count": 15,
     "metadata": {},
     "output_type": "execute_result"
    },
    {
     "data": {
      "image/png": "[encoded data removed]",
      "text/plain": [
       "<Figure size 720x432 with 1 Axes>"
      ]
     },
     "metadata": {
      "needs_background": "light"
     },
     "output_type": "display_data"
    }
   ],
   "source": [
    "plt.figure(figsize=(10,6))\n",
    "plt.plot(range(1,21),error_rate,color='blue', linestyle='dashed', marker='o',\n",
    "         markerfacecolor='red', markersize=8)\n",
    "plt.title('Error Rate vs. K Value')\n",
    "plt.xlabel('K')\n",
    "plt.ylabel('Error Rate')"
   ]
  },
  {
   "cell_type": "markdown",
   "id": "645b6607",
   "metadata": {},
   "source": [
    "Use a kvalue of 11  "
   ]
  },
  {
   "cell_type": "code",
   "execution_count": 16,
   "id": "73da0d89",
   "metadata": {},
   "outputs": [],
   "source": [
    "param_grid = {\"n_neighbors\":np.arange(1,30)}"
   ]
  },
  {
   "cell_type": "code",
   "execution_count": 17,
   "id": "c08cdf7a",
   "metadata": {},
   "outputs": [],
   "source": [
    "knn = KNeighborsClassifier()"
   ]
  },
  {
   "cell_type": "code",
   "execution_count": 18,
   "id": "987b14c8",
   "metadata": {},
   "outputs": [],
   "source": [
    "knn_cv = GridSearchCV(knn,param_grid,cv=10)"
   ]
  },
  {
   "cell_type": "code",
   "execution_count": 19,
   "id": "0904252e",
   "metadata": {},
   "outputs": [
    {
     "data": {
      "text/plain": [
       "GridSearchCV(cv=10, estimator=KNeighborsClassifier(),\n",
       "             param_grid={'n_neighbors': array([ 1,  2,  3,  4,  5,  6,  7,  8,  9, 10, 11, 12, 13, 14, 15, 16, 17,\n",
       "       18, 19, 20, 21, 22, 23, 24, 25, 26, 27, 28, 29])})"
      ]
     },
     "execution_count": 19,
     "metadata": {},
     "output_type": "execute_result"
    }
   ],
   "source": [
    "knn_cv.fit(features,label)"
   ]
  },
  {
   "cell_type": "code",
   "execution_count": 20,
   "id": "057045d7",
   "metadata": {},
   "outputs": [
    {
     "data": {
      "text/plain": [
       "{'n_neighbors': 2}"
      ]
     },
     "execution_count": 20,
     "metadata": {},
     "output_type": "execute_result"
    }
   ],
   "source": [
    "knn_cv.best_params_"
   ]
  },
  {
   "cell_type": "code",
   "execution_count": 21,
   "id": "6df87af8",
   "metadata": {},
   "outputs": [
    {
     "data": {
      "text/plain": [
       "0.22105263157894733"
      ]
     },
     "execution_count": 21,
     "metadata": {},
     "output_type": "execute_result"
    }
   ],
   "source": [
    "knn_cv.best_score_"
   ]
  },
  {
   "cell_type": "code",
   "execution_count": 22,
   "id": "ec7ab829",
   "metadata": {},
   "outputs": [],
   "source": [
    "knn = KNeighborsClassifier(n_neighbors=2)"
   ]
  },
  {
   "cell_type": "code",
   "execution_count": 23,
   "id": "a17ecc63",
   "metadata": {},
   "outputs": [
    {
     "data": {
      "text/plain": [
       "KNeighborsClassifier(n_neighbors=2)"
      ]
     },
     "execution_count": 23,
     "metadata": {},
     "output_type": "execute_result"
    }
   ],
   "source": [
    "knn.fit(X_train,y_train)"
   ]
  },
  {
   "cell_type": "markdown",
   "id": "d44de9d8",
   "metadata": {},
   "source": [
    "See how model does on predicting using Test set. "
   ]
  },
  {
   "cell_type": "code",
   "execution_count": 24,
   "id": "8f95d0c0",
   "metadata": {},
   "outputs": [],
   "source": [
    "prediction = knn.predict(X_test)"
   ]
  },
  {
   "cell_type": "markdown",
   "id": "30f2c543",
   "metadata": {},
   "source": [
    "# Comparing Train and Test Set Accuracy"
   ]
  },
  {
   "cell_type": "code",
   "execution_count": 25,
   "id": "d9fcae15",
   "metadata": {},
   "outputs": [
    {
     "name": "stdout",
     "output_type": "stream",
     "text": [
      "Accuracy of model at K 2 is 0.2236842105263158\n"
     ]
    }
   ],
   "source": [
    "print(\"Accuracy of model at K 2 is\",metrics.accuracy_score(y_test, prediction))"
   ]
  },
  {
   "cell_type": "code",
   "execution_count": 26,
   "id": "973b1274",
   "metadata": {},
   "outputs": [
    {
     "name": "stdout",
     "output_type": "stream",
     "text": [
      "Accuracy of training set 0.6052631578947368\n"
     ]
    }
   ],
   "source": [
    "knn.score(X_train,y_train)\n",
    "print(\"Accuracy of training set\",knn.score(X_train,y_train))"
   ]
  },
  {
   "cell_type": "markdown",
   "id": "5f0fedec",
   "metadata": {},
   "source": [
    "Model did not do well. "
   ]
  },
  {
   "cell_type": "code",
   "execution_count": 27,
   "id": "1be6cee5",
   "metadata": {},
   "outputs": [
    {
     "data": {
      "image/png": "[encoded data removed]",
      "text/plain": [
       "<Figure size 432x288 with 1 Axes>"
      ]
     },
     "metadata": {
      "needs_background": "light"
     },
     "output_type": "display_data"
    }
   ],
   "source": [
    "# Setup arrays to store train and test accuracies\n",
    "neighbors = np.arange(1, 20)\n",
    "train_accuracy = np.empty(len(neighbors))\n",
    "test_accuracy = np.empty(len(neighbors))\n",
    "\n",
    "# Loop over different values of k\n",
    "for i, k in enumerate(neighbors):\n",
    "    # Setup a k-NN Classifier with k neighbors: knn\n",
    "    knn = KNeighborsClassifier(n_neighbors=k)\n",
    "\n",
    "    # Fit the classifier to the training data\n",
    "    knn.fit(X_train, y_train)\n",
    "    \n",
    "    #Compute accuracy on the training set\n",
    "    train_accuracy[i] = knn.score(X_train, y_train)\n",
    "\n",
    "    #Compute accuracy on the testing set\n",
    "    test_accuracy[i] = knn.score(X_test, y_test)\n",
    "\n",
    "# Generate plot\n",
    "plt.title('k-NN: Varying Number of Neighbors')\n",
    "plt.plot(neighbors, test_accuracy, label = 'Testing Accuracy')\n",
    "plt.plot(neighbors, train_accuracy, label = 'Training Accuracy')\n",
    "plt.legend()\n",
    "plt.xlabel('Number of Neighbors')\n",
    "plt.ylabel('Accuracy')\n",
    "plt.show()"
   ]
  },
  {
   "cell_type": "code",
   "execution_count": 28,
   "id": "954033c9",
   "metadata": {},
   "outputs": [
    {
     "name": "stdout",
     "output_type": "stream",
     "text": [
      "0.38 Percent difference\n"
     ]
    }
   ],
   "source": [
    "print(round(0.60-0.22,2),\"Percent difference\")"
   ]
  },
  {
   "cell_type": "markdown",
   "id": "870fb9f3",
   "metadata": {},
   "source": [
    "There was a large differene between our training set performance and test set.\n",
    "The higher k value the more closer are performance for test and training set are together. \n",
    "Which makes sense because a larger \n",
    "K = Reduced risk of overfitting the training set\n",
    "Since we have such a low k value we have a huge difference in our test/training set accuracy since our small K overfits the training data. "
   ]
  },
  {
   "cell_type": "markdown",
   "id": "21f7ef7b",
   "metadata": {},
   "source": [
    "Going to instead use a larger k value that doesn't have as large of a gap."
   ]
  },
  {
   "cell_type": "code",
   "execution_count": 29,
   "id": "6e5809f7",
   "metadata": {},
   "outputs": [
    {
     "name": "stdout",
     "output_type": "stream",
     "text": [
      "Accuracy of model at K 11 is 0.23684210526315788\n",
      "Accuracy of training 11 is  0.2894736842105263\n",
      "0.05 Percent difference\n"
     ]
    }
   ],
   "source": [
    "knn = KNeighborsClassifier(n_neighbors=11)\n",
    "knn.fit(X_train,y_train)\n",
    "prediction = knn.predict(X_test)\n",
    "print(\"Accuracy of model at K 11 is\",metrics.accuracy_score(y_test, prediction))\n",
    "print(\"Accuracy of training 11 is \",knn.score(X_train,y_train))\n",
    "print(round(0.28-0.23,2),\"Percent difference\")"
   ]
  },
  {
   "cell_type": "markdown",
   "id": "c9bd2639",
   "metadata": {},
   "source": [
    "Able to reduce the gap between training and test set performance by 33% while not sacerficing as much accuracy. "
   ]
  },
  {
   "cell_type": "code",
   "execution_count": 30,
   "id": "db832b53",
   "metadata": {},
   "outputs": [],
   "source": [
    "y_testarray = np.array(y_test)"
   ]
  },
  {
   "cell_type": "code",
   "execution_count": 31,
   "id": "6d85fa4b",
   "metadata": {},
   "outputs": [
    {
     "name": "stdout",
     "output_type": "stream",
     "text": [
      "                                       precision    recall  f1-score   support\n",
      "\n",
      "                   A Hard Day's Night       0.25      0.40      0.31         5\n",
      "                           Abbey Road       1.00      0.43      0.60         7\n",
      "                     Beatles For Sale       0.33      0.33      0.33         6\n",
      "                                Help!       0.22      0.40      0.29         5\n",
      "                            Let It Be       0.00      0.00      0.00         5\n",
      "                 Magical Mystery Tour       0.00      0.00      0.00         4\n",
      "                     Please Please Me       0.25      0.50      0.33         6\n",
      "                             Revolver       0.00      0.00      0.00         6\n",
      "                          Rubber Soul       0.38      0.50      0.43         6\n",
      "Sgt. Pepper's Lonely Hearts Club Band       0.12      0.12      0.12         8\n",
      "                          The Beatles       0.00      0.00      0.00         8\n",
      "                     With The Beatles       0.00      0.00      0.00         5\n",
      "                     Yellow Submarine       1.00      0.40      0.57         5\n",
      "\n",
      "                             accuracy                           0.24        76\n",
      "                            macro avg       0.27      0.24      0.23        76\n",
      "                         weighted avg       0.28      0.24      0.23        76\n",
      "\n"
     ]
    }
   ],
   "source": [
    "print(classification_report(y_test, prediction,zero_division=0))"
   ]
  },
  {
   "cell_type": "markdown",
   "id": "1b5638a5",
   "metadata": {},
   "source": [
    "We want a f1-score closer to 1 indicating better model performance.\n",
    "\n",
    "* Let it Be : Unable to correctly classify the 5 instances of this album at all.\n",
    "* Magical Mystery Tour: Unable to classify the 4 instances of this album at all\n",
    "* Revolver: Unable to classify the 6 instances of this album at all \n",
    "* The Beatles: Unable to correctly classify the 8 instance of this album at all.\n",
    "* With The Beatles: Unable to correctly classify the 5 instance of this album at all.\n",
    "\n",
    "\n",
    "* The album that had the best f1-score was Abbey Road.\n",
    "Overall the model did not perform well with the kNN method.\n",
    "\n"
   ]
  },
  {
   "cell_type": "markdown",
   "id": "612fda51",
   "metadata": {},
   "source": [
    "# Performing Model with a larger training set \n",
    "\n",
    "When I reperform the model with a larger training set the model performs with a similar result just lower album instances. \n",
    "With an optimal k value of 19"
   ]
  },
  {
   "cell_type": "code",
   "execution_count": 32,
   "id": "c4e1d7f3",
   "metadata": {},
   "outputs": [],
   "source": [
    "X_train2, X_test2, y_train2, y_test2 = train_test_split(features, label, test_size = 0.20,random_state=9,stratify = label)"
   ]
  },
  {
   "cell_type": "code",
   "execution_count": 33,
   "id": "dba11ff4",
   "metadata": {},
   "outputs": [],
   "source": [
    "knn = KNeighborsClassifier(n_neighbors=19)"
   ]
  },
  {
   "cell_type": "code",
   "execution_count": 34,
   "id": "496bef3f",
   "metadata": {},
   "outputs": [
    {
     "name": "stdout",
     "output_type": "stream",
     "text": [
      "Accuracy of model at K 19 is 0.2631578947368421\n",
      "Accuracy of training set 0.3223684210526316\n"
     ]
    }
   ],
   "source": [
    "knn.fit(X_train2,y_train2)\n",
    "prediction2 = knn.predict(X_test2)\n",
    "print(\"Accuracy of model at K 19 is\",metrics.accuracy_score(y_test2, prediction2))\n",
    "knn.score(X_train2,y_train2)\n",
    "print(\"Accuracy of training set\",knn.score(X_train2,y_train2))"
   ]
  },
  {
   "cell_type": "code",
   "execution_count": 36,
   "id": "e528eb45",
   "metadata": {},
   "outputs": [
    {
     "name": "stdout",
     "output_type": "stream",
     "text": [
      "0.06 Percent difference\n"
     ]
    }
   ],
   "source": [
    "print(round(0.32-0.26,2),\"Percent difference\")"
   ]
  },
  {
   "cell_type": "code",
   "execution_count": 35,
   "id": "4b47fc23",
   "metadata": {},
   "outputs": [
    {
     "name": "stdout",
     "output_type": "stream",
     "text": [
      "                                       precision    recall  f1-score   support\n",
      "\n",
      "                   A Hard Day's Night       0.33      0.33      0.33         3\n",
      "                           Abbey Road       0.00      0.00      0.00         3\n",
      "                     Beatles For Sale       0.14      0.33      0.20         3\n",
      "                                Help!       0.25      0.33      0.29         3\n",
      "                            Let It Be       0.00      0.00      0.00         2\n",
      "                 Magical Mystery Tour       0.00      0.00      0.00         2\n",
      "                     Please Please Me       0.43      1.00      0.60         3\n",
      "                             Revolver       0.20      0.33      0.25         3\n",
      "                          Rubber Soul       0.33      0.67      0.44         3\n",
      "Sgt. Pepper's Lonely Hearts Club Band       0.00      0.00      0.00         4\n",
      "                          The Beatles       0.00      0.00      0.00         4\n",
      "                     With The Beatles       0.00      0.00      0.00         3\n",
      "                     Yellow Submarine       1.00      0.50      0.67         2\n",
      "\n",
      "                             accuracy                           0.26        38\n",
      "                            macro avg       0.21      0.27      0.21        38\n",
      "                         weighted avg       0.19      0.26      0.20        38\n",
      "\n"
     ]
    }
   ],
   "source": [
    "print(classification_report(y_test2, prediction2,zero_division=0))"
   ]
  },
  {
   "cell_type": "markdown",
   "id": "a5e2c06b",
   "metadata": {},
   "source": [
    "This model was unable to predict any instances of Abbey Road correctly unlike before when it was our best performing classification category. \n",
    "\n",
    "With such a low model accuracy score using the KNN method we are unable to justify a stable model. "
   ]
  }
 ],
 "metadata": {
  "kernelspec": {
   "display_name": "Python 3",
   "language": "python",
   "name": "python3"
  },
  "language_info": {
   "codemirror_mode": {
    "name": "ipython",
    "version": 3
   },
   "file_extension": ".py",
   "mimetype": "text/x-python",
   "name": "python",
   "nbconvert_exporter": "python",
   "pygments_lexer": "ipython3",
   "version": "3.8.8"
  }
 },
 "nbformat": 4,
 "nbformat_minor": 5
}
