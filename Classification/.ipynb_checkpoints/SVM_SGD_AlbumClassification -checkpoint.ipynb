{
 "cells": [
  {
   "cell_type": "code",
   "execution_count": 50,
   "id": "6c2bf91d",
   "metadata": {},
   "outputs": [],
   "source": [
    "import numpy as np\n",
    "import matplotlib.pyplot as plt\n",
    "from scipy import stats\n",
    "import pandas as pd\n",
    "from sklearn.model_selection import train_test_split\n",
    "from sklearn.datasets import make_blobs\n",
    "from sklearn import svm\n",
    "import sklearn.model_selection as model_selection\n",
    "from sklearn.metrics import accuracy_score\n",
    "from sklearn.metrics import f1_score\n",
    "from sklearn.metrics import classification_report\n",
    "from sklearn import preprocessing\n",
    "from sklearn.linear_model import SGDClassifier\n",
    "from sklearn.metrics import confusion_matrix"
   ]
  },
  {
   "cell_type": "code",
   "execution_count": 8,
   "id": "17da55e9",
   "metadata": {},
   "outputs": [
    {
     "data": {
      "text/html": [
       "<div>\n",
       "<style scoped>\n",
       "    .dataframe tbody tr th:only-of-type {\n",
       "        vertical-align: middle;\n",
       "    }\n",
       "\n",
       "    .dataframe tbody tr th {\n",
       "        vertical-align: top;\n",
       "    }\n",
       "\n",
       "    .dataframe thead th {\n",
       "        text-align: right;\n",
       "    }\n",
       "</style>\n",
       "<table border=\"1\" class=\"dataframe\">\n",
       "  <thead>\n",
       "    <tr style=\"text-align: right;\">\n",
       "      <th></th>\n",
       "      <th>danceability</th>\n",
       "      <th>energy</th>\n",
       "      <th>key</th>\n",
       "      <th>loudness</th>\n",
       "      <th>mode</th>\n",
       "      <th>speechiness</th>\n",
       "      <th>acousticness</th>\n",
       "      <th>instrumentalness</th>\n",
       "      <th>liveness</th>\n",
       "      <th>valence</th>\n",
       "      <th>tempo</th>\n",
       "      <th>time_signature</th>\n",
       "      <th>track_name</th>\n",
       "      <th>track_number</th>\n",
       "      <th>short_album_name</th>\n",
       "      <th>release_date</th>\n",
       "      <th>duration_seconds</th>\n",
       "      <th>track1</th>\n",
       "      <th>last_track</th>\n",
       "    </tr>\n",
       "  </thead>\n",
       "  <tbody>\n",
       "    <tr>\n",
       "      <th>0</th>\n",
       "      <td>0.294</td>\n",
       "      <td>0.407</td>\n",
       "      <td>0</td>\n",
       "      <td>-11.575</td>\n",
       "      <td>1</td>\n",
       "      <td>0.0308</td>\n",
       "      <td>0.0258</td>\n",
       "      <td>0.000219</td>\n",
       "      <td>0.0852</td>\n",
       "      <td>0.0378</td>\n",
       "      <td>101.052</td>\n",
       "      <td>4</td>\n",
       "      <td>Blue Jay Way</td>\n",
       "      <td>4</td>\n",
       "      <td>Magical Mystery Tour</td>\n",
       "      <td>1967-11-27</td>\n",
       "      <td>235.067</td>\n",
       "      <td>0</td>\n",
       "      <td>0</td>\n",
       "    </tr>\n",
       "    <tr>\n",
       "      <th>1</th>\n",
       "      <td>0.612</td>\n",
       "      <td>0.788</td>\n",
       "      <td>0</td>\n",
       "      <td>-6.251</td>\n",
       "      <td>1</td>\n",
       "      <td>0.0335</td>\n",
       "      <td>0.3670</td>\n",
       "      <td>0.000000</td>\n",
       "      <td>0.3820</td>\n",
       "      <td>0.9610</td>\n",
       "      <td>129.161</td>\n",
       "      <td>4</td>\n",
       "      <td>You Can't Do That</td>\n",
       "      <td>12</td>\n",
       "      <td>A Hard Day's Night</td>\n",
       "      <td>1964-07-10</td>\n",
       "      <td>154.893</td>\n",
       "      <td>0</td>\n",
       "      <td>0</td>\n",
       "    </tr>\n",
       "    <tr>\n",
       "      <th>2</th>\n",
       "      <td>0.422</td>\n",
       "      <td>0.656</td>\n",
       "      <td>4</td>\n",
       "      <td>-8.412</td>\n",
       "      <td>1</td>\n",
       "      <td>0.0397</td>\n",
       "      <td>0.0126</td>\n",
       "      <td>0.027900</td>\n",
       "      <td>0.2680</td>\n",
       "      <td>0.5490</td>\n",
       "      <td>173.930</td>\n",
       "      <td>3</td>\n",
       "      <td>Oh! Darling</td>\n",
       "      <td>4</td>\n",
       "      <td>Abbey Road</td>\n",
       "      <td>1969-09-26</td>\n",
       "      <td>207.240</td>\n",
       "      <td>0</td>\n",
       "      <td>0</td>\n",
       "    </tr>\n",
       "    <tr>\n",
       "      <th>3</th>\n",
       "      <td>0.538</td>\n",
       "      <td>0.478</td>\n",
       "      <td>11</td>\n",
       "      <td>-8.957</td>\n",
       "      <td>0</td>\n",
       "      <td>0.0388</td>\n",
       "      <td>0.4720</td>\n",
       "      <td>0.000000</td>\n",
       "      <td>0.1700</td>\n",
       "      <td>0.5270</td>\n",
       "      <td>59.004</td>\n",
       "      <td>4</td>\n",
       "      <td>Dig A Pony</td>\n",
       "      <td>2</td>\n",
       "      <td>Let It Be</td>\n",
       "      <td>1970-05-08</td>\n",
       "      <td>235.000</td>\n",
       "      <td>0</td>\n",
       "      <td>0</td>\n",
       "    </tr>\n",
       "    <tr>\n",
       "      <th>4</th>\n",
       "      <td>0.297</td>\n",
       "      <td>0.613</td>\n",
       "      <td>9</td>\n",
       "      <td>-9.065</td>\n",
       "      <td>1</td>\n",
       "      <td>0.0931</td>\n",
       "      <td>0.0385</td>\n",
       "      <td>0.000040</td>\n",
       "      <td>0.0734</td>\n",
       "      <td>0.3380</td>\n",
       "      <td>170.962</td>\n",
       "      <td>4</td>\n",
       "      <td>Magical Mystery Tour</td>\n",
       "      <td>1</td>\n",
       "      <td>Magical Mystery Tour</td>\n",
       "      <td>1967-11-27</td>\n",
       "      <td>170.107</td>\n",
       "      <td>1</td>\n",
       "      <td>0</td>\n",
       "    </tr>\n",
       "  </tbody>\n",
       "</table>\n",
       "</div>"
      ],
      "text/plain": [
       "   danceability  energy  key  loudness  mode  speechiness  acousticness  \\\n",
       "0         0.294   0.407    0   -11.575     1       0.0308        0.0258   \n",
       "1         0.612   0.788    0    -6.251     1       0.0335        0.3670   \n",
       "2         0.422   0.656    4    -8.412     1       0.0397        0.0126   \n",
       "3         0.538   0.478   11    -8.957     0       0.0388        0.4720   \n",
       "4         0.297   0.613    9    -9.065     1       0.0931        0.0385   \n",
       "\n",
       "   instrumentalness  liveness  valence    tempo  time_signature  \\\n",
       "0          0.000219    0.0852   0.0378  101.052               4   \n",
       "1          0.000000    0.3820   0.9610  129.161               4   \n",
       "2          0.027900    0.2680   0.5490  173.930               3   \n",
       "3          0.000000    0.1700   0.5270   59.004               4   \n",
       "4          0.000040    0.0734   0.3380  170.962               4   \n",
       "\n",
       "              track_name  track_number      short_album_name release_date  \\\n",
       "0          Blue Jay Way              4  Magical Mystery Tour   1967-11-27   \n",
       "1     You Can't Do That             12    A Hard Day's Night   1964-07-10   \n",
       "2           Oh! Darling              4            Abbey Road   1969-09-26   \n",
       "3            Dig A Pony              2             Let It Be   1970-05-08   \n",
       "4  Magical Mystery Tour              1  Magical Mystery Tour   1967-11-27   \n",
       "\n",
       "   duration_seconds  track1  last_track  \n",
       "0           235.067       0           0  \n",
       "1           154.893       0           0  \n",
       "2           207.240       0           0  \n",
       "3           235.000       0           0  \n",
       "4           170.107       1           0  "
      ]
     },
     "execution_count": 8,
     "metadata": {},
     "output_type": "execute_result"
    }
   ],
   "source": [
    "data = pd.read_csv(\"beatlesrandom.csv\")\n",
    "data.drop(['Unnamed: 0'],inplace=True, axis=1)\n",
    "data.drop(['album_cover'],inplace=True, axis=1)\n",
    "data.head()"
   ]
  },
  {
   "cell_type": "code",
   "execution_count": 12,
   "id": "ce45a16e",
   "metadata": {},
   "outputs": [],
   "source": [
    "df = data[['danceability', 'energy', 'key', 'loudness', 'mode', 'speechiness',\n",
    "       'acousticness', 'instrumentalness', 'liveness', 'valence', 'tempo',\n",
    "       'time_signature', 'short_album_name','duration_seconds']]"
   ]
  },
  {
   "cell_type": "code",
   "execution_count": 13,
   "id": "80263be2",
   "metadata": {},
   "outputs": [],
   "source": [
    "features = df[['danceability', 'energy', 'key', 'loudness', 'speechiness',\n",
    "       'acousticness', 'instrumentalness', 'liveness', 'valence', 'tempo',\n",
    "       'time_signature','duration_seconds']]\n",
    "label=df[\"short_album_name\"]"
   ]
  },
  {
   "cell_type": "markdown",
   "id": "0eeea344",
   "metadata": {},
   "source": [
    "# Scaling required for model"
   ]
  },
  {
   "cell_type": "code",
   "execution_count": 17,
   "id": "2bdcecde",
   "metadata": {},
   "outputs": [],
   "source": [
    "features = preprocessing.StandardScaler().fit(features).transform(features.astype(float))"
   ]
  },
  {
   "cell_type": "markdown",
   "id": "da612185",
   "metadata": {},
   "source": [
    "# Splitting"
   ]
  },
  {
   "cell_type": "code",
   "execution_count": 23,
   "id": "36780be8",
   "metadata": {},
   "outputs": [],
   "source": [
    "X_train, X_test, y_train, y_test = train_test_split(features, label, test_size = 0.40,random_state=9,stratify = label)"
   ]
  },
  {
   "cell_type": "code",
   "execution_count": 24,
   "id": "92e1c4ab",
   "metadata": {},
   "outputs": [
    {
     "name": "stdout",
     "output_type": "stream",
     "text": [
      "(114, 12)\n",
      "(76, 12)\n",
      "(114,)\n",
      "(76,)\n"
     ]
    }
   ],
   "source": [
    "print(X_train.shape)\n",
    "print(X_test.shape)\n",
    "print(y_train.shape)\n",
    "print(y_test.shape)"
   ]
  },
  {
   "cell_type": "markdown",
   "id": "efd26fcb",
   "metadata": {},
   "source": [
    "# Building the SVM classifier"
   ]
  },
  {
   "cell_type": "markdown",
   "id": "dcb1e626",
   "metadata": {},
   "source": [
    "# RBF Kernel:"
   ]
  },
  {
   "cell_type": "code",
   "execution_count": 25,
   "id": "7e12ae84",
   "metadata": {},
   "outputs": [],
   "source": [
    "rbf = svm.SVC(kernel='rbf', gamma=0.5, C=0.1).fit(X_train, y_train)"
   ]
  },
  {
   "cell_type": "markdown",
   "id": "818d9fa3",
   "metadata": {},
   "source": [
    "# Polynomial Kernel "
   ]
  },
  {
   "cell_type": "code",
   "execution_count": 26,
   "id": "ce663218",
   "metadata": {},
   "outputs": [],
   "source": [
    "poly = svm.SVC(kernel='poly', degree=3, C=1).fit(X_train, y_train)"
   ]
  },
  {
   "cell_type": "markdown",
   "id": "5c64d2a3",
   "metadata": {},
   "source": [
    "# Linear Kernel "
   ]
  },
  {
   "cell_type": "code",
   "execution_count": 32,
   "id": "f5a8b683",
   "metadata": {},
   "outputs": [],
   "source": [
    "linear= svm.SVC(kernel='linear', C=1).fit(X_train, y_train)"
   ]
  },
  {
   "cell_type": "markdown",
   "id": "6eaa6810",
   "metadata": {},
   "source": [
    "# Predicitons "
   ]
  },
  {
   "cell_type": "code",
   "execution_count": 33,
   "id": "192fbec9",
   "metadata": {},
   "outputs": [],
   "source": [
    "poly_pred = poly.predict(X_test)\n",
    "rbf_pred = rbf.predict(X_test)\n",
    "linear_pred = linear.predict(X_test)"
   ]
  },
  {
   "cell_type": "markdown",
   "id": "cdff9ca9",
   "metadata": {},
   "source": [
    "# RBF Kernel Accuracy"
   ]
  },
  {
   "cell_type": "code",
   "execution_count": 30,
   "id": "9193d050",
   "metadata": {},
   "outputs": [
    {
     "name": "stdout",
     "output_type": "stream",
     "text": [
      "Accuracy (RBF Kernel):  9.21\n",
      "F1 (RBF Kernel):  2.14\n"
     ]
    }
   ],
   "source": [
    "rbf_accuracy = accuracy_score(y_test, rbf_pred)\n",
    "rbf_f1 = f1_score(y_test, rbf_pred, average='weighted')\n",
    "print('Accuracy (RBF Kernel): ', \"%.2f\" % (rbf_accuracy*100))\n",
    "print('F1 (RBF Kernel): ', \"%.2f\" % (rbf_f1*100))"
   ]
  },
  {
   "cell_type": "code",
   "execution_count": 69,
   "id": "7c861c9e",
   "metadata": {},
   "outputs": [
    {
     "name": "stdout",
     "output_type": "stream",
     "text": [
      "Training score:  21.05\n"
     ]
    }
   ],
   "source": [
    "score = rbf.score(X_train, y_train)\n",
    "print(\"Training score: \", round(score*100,2))"
   ]
  },
  {
   "cell_type": "code",
   "execution_count": 58,
   "id": "0549f9cf",
   "metadata": {},
   "outputs": [
    {
     "name": "stdout",
     "output_type": "stream",
     "text": [
      "                                       precision    recall  f1-score   support\n",
      "\n",
      "                   A Hard Day's Night       1.00      0.00      0.00         5\n",
      "                           Abbey Road       1.00      0.00      0.00         7\n",
      "                     Beatles For Sale       1.00      0.00      0.00         6\n",
      "                                Help!       1.00      0.00      0.00         5\n",
      "                            Let It Be       1.00      0.00      0.00         5\n",
      "                 Magical Mystery Tour       1.00      0.00      0.00         4\n",
      "                     Please Please Me       1.00      0.00      0.00         6\n",
      "                             Revolver       1.00      0.00      0.00         6\n",
      "                          Rubber Soul       1.00      0.00      0.00         6\n",
      "Sgt. Pepper's Lonely Hearts Club Band       0.00      0.00      0.00         8\n",
      "                          The Beatles       0.11      0.88      0.20         8\n",
      "                     With The Beatles       1.00      0.00      0.00         5\n",
      "                     Yellow Submarine       1.00      0.00      0.00         5\n",
      "\n",
      "                             accuracy                           0.09        76\n",
      "                            macro avg       0.85      0.07      0.02        76\n",
      "                         weighted avg       0.80      0.09      0.02        76\n",
      "\n"
     ]
    }
   ],
   "source": [
    "rbfclr = classification_report(y_test, rbf_pred,zero_division=True)\n",
    "print(rbfclr)"
   ]
  },
  {
   "cell_type": "markdown",
   "id": "1e21ac19",
   "metadata": {},
   "source": [
    "# Polynomial Kernel Accuracy "
   ]
  },
  {
   "cell_type": "code",
   "execution_count": 31,
   "id": "712aa221",
   "metadata": {},
   "outputs": [
    {
     "name": "stdout",
     "output_type": "stream",
     "text": [
      "Accuracy (Polynomial Kernel):  15.79\n",
      "F1 (Polynomial Kernel):  9.55\n"
     ]
    }
   ],
   "source": [
    "poly_accuracy = accuracy_score(y_test, poly_pred)\n",
    "poly_f1 = f1_score(y_test, poly_pred, average='weighted')\n",
    "print('Accuracy (Polynomial Kernel): ', \"%.2f\" % (poly_accuracy*100))\n",
    "print('F1 (Polynomial Kernel): ', \"%.2f\" % (poly_f1*100))"
   ]
  },
  {
   "cell_type": "code",
   "execution_count": 68,
   "id": "d7b09790",
   "metadata": {},
   "outputs": [
    {
     "name": "stdout",
     "output_type": "stream",
     "text": [
      "Training score:  43.86\n"
     ]
    }
   ],
   "source": [
    "score = poly.score(X_train, y_train)\n",
    "print(\"Training score: \", round(score*100,2))"
   ]
  },
  {
   "cell_type": "code",
   "execution_count": 59,
   "id": "3f4e19da",
   "metadata": {},
   "outputs": [
    {
     "name": "stdout",
     "output_type": "stream",
     "text": [
      "                                       precision    recall  f1-score   support\n",
      "\n",
      "                   A Hard Day's Night       1.00      0.00      0.00         5\n",
      "                           Abbey Road       1.00      0.00      0.00         7\n",
      "                     Beatles For Sale       1.00      0.00      0.00         6\n",
      "                                Help!       0.00      0.00      0.00         5\n",
      "                            Let It Be       0.00      0.00      0.00         5\n",
      "                 Magical Mystery Tour       0.00      0.00      0.00         4\n",
      "                     Please Please Me       0.00      0.00      0.00         6\n",
      "                             Revolver       1.00      0.00      0.00         6\n",
      "                          Rubber Soul       1.00      0.00      0.00         6\n",
      "Sgt. Pepper's Lonely Hearts Club Band       0.50      0.12      0.20         8\n",
      "                          The Beatles       0.14      1.00      0.24         8\n",
      "                     With The Beatles       0.00      0.00      0.00         5\n",
      "                     Yellow Submarine       1.00      0.60      0.75         5\n",
      "\n",
      "                             accuracy                           0.16        76\n",
      "                            macro avg       0.51      0.13      0.09        76\n",
      "                         weighted avg       0.53      0.16      0.10        76\n",
      "\n"
     ]
    }
   ],
   "source": [
    "polyclr = classification_report(y_test, poly_pred,zero_division=True)\n",
    "print(polyclr)"
   ]
  },
  {
   "cell_type": "markdown",
   "id": "191cefd7",
   "metadata": {},
   "source": [
    "# Linear Kernel Accuracy "
   ]
  },
  {
   "cell_type": "code",
   "execution_count": 34,
   "id": "7b857f81",
   "metadata": {},
   "outputs": [
    {
     "name": "stdout",
     "output_type": "stream",
     "text": [
      "Accuracy (PLinear Kernel):  25.00\n",
      "F1 (Linear Kernel):  21.51\n"
     ]
    }
   ],
   "source": [
    "linear_accuracy = accuracy_score(y_test, linear_pred)\n",
    "linear_f1 = f1_score(y_test, linear_pred, average='weighted')\n",
    "print('Accuracy (PLinear Kernel): ', \"%.2f\" % (linear_accuracy*100))\n",
    "print('F1 (Linear Kernel): ', \"%.2f\" % (linear_f1*100))"
   ]
  },
  {
   "cell_type": "code",
   "execution_count": 67,
   "id": "eb3a4460",
   "metadata": {},
   "outputs": [
    {
     "name": "stdout",
     "output_type": "stream",
     "text": [
      "Training score:  79.82\n",
      "Very low training score not good at all\n"
     ]
    }
   ],
   "source": [
    "score = linear.score(X_train, y_train)\n",
    "print(\"Training score: \", round(score*100,2))"
   ]
  },
  {
   "cell_type": "code",
   "execution_count": 61,
   "id": "5fb1a185",
   "metadata": {},
   "outputs": [
    {
     "name": "stdout",
     "output_type": "stream",
     "text": [
      "                                       precision    recall  f1-score   support\n",
      "\n",
      "                   A Hard Day's Night       0.33      0.40      0.36         5\n",
      "                           Abbey Road       0.33      0.43      0.38         7\n",
      "                     Beatles For Sale       0.00      0.00      0.00         6\n",
      "                                Help!       0.20      0.40      0.27         5\n",
      "                            Let It Be       0.22      0.40      0.29         5\n",
      "                 Magical Mystery Tour       0.17      0.25      0.20         4\n",
      "                     Please Please Me       0.29      0.33      0.31         6\n",
      "                             Revolver       0.33      0.17      0.22         6\n",
      "                          Rubber Soul       0.33      0.67      0.44         6\n",
      "Sgt. Pepper's Lonely Hearts Club Band       0.00      0.00      0.00         8\n",
      "                          The Beatles       0.00      0.00      0.00         8\n",
      "                     With The Beatles       0.00      0.00      0.00         5\n",
      "                     Yellow Submarine       0.67      0.40      0.50         5\n",
      "\n",
      "                             accuracy                           0.25        76\n",
      "                            macro avg       0.22      0.27      0.23        76\n",
      "                         weighted avg       0.21      0.25      0.22        76\n",
      "\n"
     ]
    }
   ],
   "source": [
    "linearclr = classification_report(y_test, linear_pred,zero_division=True)\n",
    "print(linearclr)"
   ]
  },
  {
   "cell_type": "markdown",
   "id": "319062fb",
   "metadata": {},
   "source": [
    "# SGD Classifier "
   ]
  },
  {
   "cell_type": "code",
   "execution_count": 39,
   "id": "be5a8600",
   "metadata": {},
   "outputs": [
    {
     "name": "stdout",
     "output_type": "stream",
     "text": [
      "SGDClassifier(tol=0.01)\n"
     ]
    },
    {
     "data": {
      "text/plain": [
       "SGDClassifier(tol=0.01)"
      ]
     },
     "execution_count": 39,
     "metadata": {},
     "output_type": "execute_result"
    }
   ],
   "source": [
    "sgd = SGDClassifier(max_iter=1000, tol=0.01)\n",
    "print(sgd)\n",
    " \n",
    "sgd.fit(X_train, y_train)"
   ]
  },
  {
   "cell_type": "code",
   "execution_count": 45,
   "id": "37b06ad2",
   "metadata": {},
   "outputs": [
    {
     "name": "stdout",
     "output_type": "stream",
     "text": [
      "Training score:  48.25\n",
      "Very low training score not good at all\n"
     ]
    }
   ],
   "source": [
    "score = sgd.score(X_train, y_train)\n",
    "print(\"Training score: \", round(score*100,2))\n",
    "print(\"Very low training score not good at all\")"
   ]
  },
  {
   "cell_type": "code",
   "execution_count": 65,
   "id": "fcaf3949",
   "metadata": {},
   "outputs": [],
   "source": [
    "ypredsgd= sgd.predict(X_test)"
   ]
  },
  {
   "cell_type": "code",
   "execution_count": 66,
   "id": "53b9c1d1",
   "metadata": {},
   "outputs": [
    {
     "name": "stdout",
     "output_type": "stream",
     "text": [
      "                                       precision    recall  f1-score   support\n",
      "\n",
      "                   A Hard Day's Night       0.40      0.40      0.40         5\n",
      "                           Abbey Road       0.22      0.29      0.25         7\n",
      "                     Beatles For Sale       0.00      0.00      0.00         6\n",
      "                                Help!       0.25      0.20      0.22         5\n",
      "                            Let It Be       0.12      0.20      0.15         5\n",
      "                 Magical Mystery Tour       0.00      0.00      0.00         4\n",
      "                     Please Please Me       0.33      0.17      0.22         6\n",
      "                             Revolver       0.40      0.33      0.36         6\n",
      "                          Rubber Soul       0.33      0.50      0.40         6\n",
      "Sgt. Pepper's Lonely Hearts Club Band       0.17      0.25      0.20         8\n",
      "                          The Beatles       0.00      0.00      0.00         8\n",
      "                     With The Beatles       0.00      0.00      0.00         5\n",
      "                     Yellow Submarine       0.60      0.60      0.60         5\n",
      "\n",
      "                             accuracy                           0.22        76\n",
      "                            macro avg       0.22      0.23      0.22        76\n",
      "                         weighted avg       0.21      0.22      0.21        76\n",
      "\n"
     ]
    }
   ],
   "source": [
    "sgdclr = classification_report(y_test, ypredsgd,zero_division=True)\n",
    "print(sgdclr)"
   ]
  }
 ],
 "metadata": {
  "kernelspec": {
   "display_name": "Python 3",
   "language": "python",
   "name": "python3"
  },
  "language_info": {
   "codemirror_mode": {
    "name": "ipython",
    "version": 3
   },
   "file_extension": ".py",
   "mimetype": "text/x-python",
   "name": "python",
   "nbconvert_exporter": "python",
   "pygments_lexer": "ipython3",
   "version": "3.8.8"
  }
 },
 "nbformat": 4,
 "nbformat_minor": 5
}
