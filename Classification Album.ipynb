{
 "cells": [
  {
   "cell_type": "code",
   "execution_count": 44,
   "id": "76281e75",
   "metadata": {},
   "outputs": [],
   "source": [
    "import pandas as pd\n",
    "import numpy as np\n",
    "from sklearn.pipeline import Pipeline\n",
    "from sklearn.preprocessing import StandardScaler\n",
    "from sklearn.preprocessing import PolynomialFeatures\n",
    "from sklearn.model_selection import train_test_split\n",
    "from sklearn.svm import LinearSVC"
   ]
  },
  {
   "cell_type": "markdown",
   "id": "b52f3b68",
   "metadata": {},
   "source": [
    "# Importing Data Set with Randomized Index"
   ]
  },
  {
   "cell_type": "code",
   "execution_count": 2,
   "id": "5c9000d0",
   "metadata": {},
   "outputs": [],
   "source": [
    "data = pd.read_csv(\"beatlesrandom.csv\")\n",
    "data = data.rename(columns = {\"Unnamed: 0\":\"INDEX\"})"
   ]
  },
  {
   "cell_type": "code",
   "execution_count": 3,
   "id": "74921c52",
   "metadata": {},
   "outputs": [
    {
     "data": {
      "text/plain": [
       "Index(['INDEX', 'danceability', 'energy', 'key', 'loudness', 'mode',\n",
       "       'speechiness', 'acousticness', 'instrumentalness', 'liveness',\n",
       "       'valence', 'tempo', 'time_signature', 'track_name', 'track_number',\n",
       "       'short_album_name', 'release_date', 'album_cover', 'duration_seconds',\n",
       "       'track1', 'last_track'],\n",
       "      dtype='object')"
      ]
     },
     "execution_count": 3,
     "metadata": {},
     "output_type": "execute_result"
    }
   ],
   "source": [
    "data.columns"
   ]
  },
  {
   "cell_type": "markdown",
   "id": "c910723a",
   "metadata": {},
   "source": [
    "# Removing columns not using for ML yet"
   ]
  },
  {
   "cell_type": "code",
   "execution_count": 4,
   "id": "4f455ee8",
   "metadata": {},
   "outputs": [],
   "source": [
    "data.drop(['INDEX'],inplace=True, axis=1)\n",
    "data.drop(['album_cover'],inplace=True, axis=1)"
   ]
  },
  {
   "cell_type": "code",
   "execution_count": 5,
   "id": "002ff1e9",
   "metadata": {},
   "outputs": [
    {
     "data": {
      "text/html": [
       "<div>\n",
       "<style scoped>\n",
       "    .dataframe tbody tr th:only-of-type {\n",
       "        vertical-align: middle;\n",
       "    }\n",
       "\n",
       "    .dataframe tbody tr th {\n",
       "        vertical-align: top;\n",
       "    }\n",
       "\n",
       "    .dataframe thead th {\n",
       "        text-align: right;\n",
       "    }\n",
       "</style>\n",
       "<table border=\"1\" class=\"dataframe\">\n",
       "  <thead>\n",
       "    <tr style=\"text-align: right;\">\n",
       "      <th></th>\n",
       "      <th>danceability</th>\n",
       "      <th>energy</th>\n",
       "      <th>key</th>\n",
       "      <th>loudness</th>\n",
       "      <th>mode</th>\n",
       "      <th>speechiness</th>\n",
       "      <th>acousticness</th>\n",
       "      <th>instrumentalness</th>\n",
       "      <th>liveness</th>\n",
       "      <th>valence</th>\n",
       "      <th>tempo</th>\n",
       "      <th>time_signature</th>\n",
       "      <th>track_name</th>\n",
       "      <th>track_number</th>\n",
       "      <th>short_album_name</th>\n",
       "      <th>release_date</th>\n",
       "      <th>duration_seconds</th>\n",
       "      <th>track1</th>\n",
       "      <th>last_track</th>\n",
       "    </tr>\n",
       "  </thead>\n",
       "  <tbody>\n",
       "    <tr>\n",
       "      <th>0</th>\n",
       "      <td>0.294</td>\n",
       "      <td>0.407</td>\n",
       "      <td>0</td>\n",
       "      <td>-11.575</td>\n",
       "      <td>1</td>\n",
       "      <td>0.0308</td>\n",
       "      <td>0.0258</td>\n",
       "      <td>0.000219</td>\n",
       "      <td>0.0852</td>\n",
       "      <td>0.0378</td>\n",
       "      <td>101.052</td>\n",
       "      <td>4</td>\n",
       "      <td>Blue Jay Way</td>\n",
       "      <td>4</td>\n",
       "      <td>Magical Mystery Tour</td>\n",
       "      <td>1967-11-27</td>\n",
       "      <td>235.067</td>\n",
       "      <td>0</td>\n",
       "      <td>0</td>\n",
       "    </tr>\n",
       "    <tr>\n",
       "      <th>1</th>\n",
       "      <td>0.612</td>\n",
       "      <td>0.788</td>\n",
       "      <td>0</td>\n",
       "      <td>-6.251</td>\n",
       "      <td>1</td>\n",
       "      <td>0.0335</td>\n",
       "      <td>0.3670</td>\n",
       "      <td>0.000000</td>\n",
       "      <td>0.3820</td>\n",
       "      <td>0.9610</td>\n",
       "      <td>129.161</td>\n",
       "      <td>4</td>\n",
       "      <td>You Can't Do That</td>\n",
       "      <td>12</td>\n",
       "      <td>A Hard Day's Night</td>\n",
       "      <td>1964-07-10</td>\n",
       "      <td>154.893</td>\n",
       "      <td>0</td>\n",
       "      <td>0</td>\n",
       "    </tr>\n",
       "    <tr>\n",
       "      <th>2</th>\n",
       "      <td>0.422</td>\n",
       "      <td>0.656</td>\n",
       "      <td>4</td>\n",
       "      <td>-8.412</td>\n",
       "      <td>1</td>\n",
       "      <td>0.0397</td>\n",
       "      <td>0.0126</td>\n",
       "      <td>0.027900</td>\n",
       "      <td>0.2680</td>\n",
       "      <td>0.5490</td>\n",
       "      <td>173.930</td>\n",
       "      <td>3</td>\n",
       "      <td>Oh! Darling</td>\n",
       "      <td>4</td>\n",
       "      <td>Abbey Road</td>\n",
       "      <td>1969-09-26</td>\n",
       "      <td>207.240</td>\n",
       "      <td>0</td>\n",
       "      <td>0</td>\n",
       "    </tr>\n",
       "    <tr>\n",
       "      <th>3</th>\n",
       "      <td>0.538</td>\n",
       "      <td>0.478</td>\n",
       "      <td>11</td>\n",
       "      <td>-8.957</td>\n",
       "      <td>0</td>\n",
       "      <td>0.0388</td>\n",
       "      <td>0.4720</td>\n",
       "      <td>0.000000</td>\n",
       "      <td>0.1700</td>\n",
       "      <td>0.5270</td>\n",
       "      <td>59.004</td>\n",
       "      <td>4</td>\n",
       "      <td>Dig A Pony</td>\n",
       "      <td>2</td>\n",
       "      <td>Let It Be</td>\n",
       "      <td>1970-05-08</td>\n",
       "      <td>235.000</td>\n",
       "      <td>0</td>\n",
       "      <td>0</td>\n",
       "    </tr>\n",
       "    <tr>\n",
       "      <th>4</th>\n",
       "      <td>0.297</td>\n",
       "      <td>0.613</td>\n",
       "      <td>9</td>\n",
       "      <td>-9.065</td>\n",
       "      <td>1</td>\n",
       "      <td>0.0931</td>\n",
       "      <td>0.0385</td>\n",
       "      <td>0.000040</td>\n",
       "      <td>0.0734</td>\n",
       "      <td>0.3380</td>\n",
       "      <td>170.962</td>\n",
       "      <td>4</td>\n",
       "      <td>Magical Mystery Tour</td>\n",
       "      <td>1</td>\n",
       "      <td>Magical Mystery Tour</td>\n",
       "      <td>1967-11-27</td>\n",
       "      <td>170.107</td>\n",
       "      <td>1</td>\n",
       "      <td>0</td>\n",
       "    </tr>\n",
       "  </tbody>\n",
       "</table>\n",
       "</div>"
      ],
      "text/plain": [
       "   danceability  energy  key  loudness  mode  speechiness  acousticness  \\\n",
       "0         0.294   0.407    0   -11.575     1       0.0308        0.0258   \n",
       "1         0.612   0.788    0    -6.251     1       0.0335        0.3670   \n",
       "2         0.422   0.656    4    -8.412     1       0.0397        0.0126   \n",
       "3         0.538   0.478   11    -8.957     0       0.0388        0.4720   \n",
       "4         0.297   0.613    9    -9.065     1       0.0931        0.0385   \n",
       "\n",
       "   instrumentalness  liveness  valence    tempo  time_signature  \\\n",
       "0          0.000219    0.0852   0.0378  101.052               4   \n",
       "1          0.000000    0.3820   0.9610  129.161               4   \n",
       "2          0.027900    0.2680   0.5490  173.930               3   \n",
       "3          0.000000    0.1700   0.5270   59.004               4   \n",
       "4          0.000040    0.0734   0.3380  170.962               4   \n",
       "\n",
       "              track_name  track_number      short_album_name release_date  \\\n",
       "0          Blue Jay Way              4  Magical Mystery Tour   1967-11-27   \n",
       "1     You Can't Do That             12    A Hard Day's Night   1964-07-10   \n",
       "2           Oh! Darling              4            Abbey Road   1969-09-26   \n",
       "3            Dig A Pony              2             Let It Be   1970-05-08   \n",
       "4  Magical Mystery Tour              1  Magical Mystery Tour   1967-11-27   \n",
       "\n",
       "   duration_seconds  track1  last_track  \n",
       "0           235.067       0           0  \n",
       "1           154.893       0           0  \n",
       "2           207.240       0           0  \n",
       "3           235.000       0           0  \n",
       "4           170.107       1           0  "
      ]
     },
     "execution_count": 5,
     "metadata": {},
     "output_type": "execute_result"
    }
   ],
   "source": [
    "data.head()"
   ]
  },
  {
   "cell_type": "markdown",
   "id": "942d1c69",
   "metadata": {},
   "source": [
    "# Classify songs with their Album by Audio Characteristics \n",
    "Features = X\n",
    "Label = y (short_album_name) "
   ]
  },
  {
   "cell_type": "markdown",
   "id": "df42bf6a",
   "metadata": {},
   "source": [
    "Subsetting data to only be Audio Features"
   ]
  },
  {
   "cell_type": "code",
   "execution_count": 6,
   "id": "e2dda195",
   "metadata": {},
   "outputs": [
    {
     "data": {
      "text/plain": [
       "Index(['danceability', 'energy', 'key', 'loudness', 'mode', 'speechiness',\n",
       "       'acousticness', 'instrumentalness', 'liveness', 'valence', 'tempo',\n",
       "       'time_signature', 'track_name', 'track_number', 'short_album_name',\n",
       "       'release_date', 'duration_seconds', 'track1', 'last_track'],\n",
       "      dtype='object')"
      ]
     },
     "execution_count": 6,
     "metadata": {},
     "output_type": "execute_result"
    }
   ],
   "source": [
    "data.columns"
   ]
  },
  {
   "cell_type": "code",
   "execution_count": 7,
   "id": "46e0fa95",
   "metadata": {},
   "outputs": [],
   "source": [
    "df = data[['danceability', 'energy', 'key', 'loudness', 'mode', 'speechiness',\n",
    "       'acousticness', 'instrumentalness', 'liveness', 'valence', 'tempo',\n",
    "       'time_signature', 'short_album_name','duration_seconds']]"
   ]
  },
  {
   "cell_type": "code",
   "execution_count": 25,
   "id": "88c49cdb",
   "metadata": {},
   "outputs": [
    {
     "data": {
      "text/plain": [
       "(190, 14)"
      ]
     },
     "execution_count": 25,
     "metadata": {},
     "output_type": "execute_result"
    }
   ],
   "source": [
    "df = pd.DataFrame(df)\n",
    "df.shape"
   ]
  },
  {
   "cell_type": "markdown",
   "id": "758d57dd",
   "metadata": {},
   "source": [
    "# Support Vector Machines\n",
    "See if linearly seperable first "
   ]
  },
  {
   "cell_type": "code",
   "execution_count": 33,
   "id": "513566be",
   "metadata": {},
   "outputs": [],
   "source": [
    "features = df[['danceability', 'energy', 'key', 'loudness', 'mode', 'speechiness',\n",
    "       'acousticness', 'instrumentalness', 'liveness', 'valence', 'tempo',\n",
    "       'time_signature','duration_seconds']]\n",
    "label=df[\"short_album_name\"]"
   ]
  },
  {
   "cell_type": "code",
   "execution_count": 32,
   "id": "7f940c29",
   "metadata": {},
   "outputs": [
    {
     "name": "stdout",
     "output_type": "stream",
     "text": [
      "(190, 13)\n",
      "(190,)\n"
     ]
    }
   ],
   "source": [
    "print(X.shape)\n",
    "print(y.shape)"
   ]
  },
  {
   "cell_type": "markdown",
   "id": "793d71ab",
   "metadata": {},
   "source": [
    "# Split training and test set "
   ]
  },
  {
   "cell_type": "code",
   "execution_count": 35,
   "id": "7c62ea3c",
   "metadata": {},
   "outputs": [],
   "source": [
    "np.random.seed(1)"
   ]
  },
  {
   "cell_type": "code",
   "execution_count": 40,
   "id": "f9685390",
   "metadata": {},
   "outputs": [],
   "source": [
    "X_train, X_test, y_train, y_test = train_test_split(features, label, test_size = 0.30)"
   ]
  },
  {
   "cell_type": "code",
   "execution_count": 41,
   "id": "c9e69938",
   "metadata": {},
   "outputs": [
    {
     "name": "stdout",
     "output_type": "stream",
     "text": [
      "(133, 13)\n",
      "(57, 13)\n",
      "(133,)\n",
      "(57,)\n"
     ]
    }
   ],
   "source": [
    "print(X_train.shape)\n",
    "print(X_test.shape)\n",
    "print(y_train.shape)\n",
    "print(y_test.shape)"
   ]
  },
  {
   "cell_type": "code",
   "execution_count": null,
   "id": "bfcdf76f",
   "metadata": {},
   "outputs": [],
   "source": []
  },
  {
   "cell_type": "code",
   "execution_count": null,
   "id": "b6a862a7",
   "metadata": {},
   "outputs": [],
   "source": []
  },
  {
   "cell_type": "code",
   "execution_count": null,
   "id": "2e31a1cf",
   "metadata": {},
   "outputs": [],
   "source": []
  },
  {
   "cell_type": "code",
   "execution_count": null,
   "id": "d9fcae15",
   "metadata": {},
   "outputs": [],
   "source": []
  }
 ],
 "metadata": {
  "kernelspec": {
   "display_name": "Python 3",
   "language": "python",
   "name": "python3"
  },
  "language_info": {
   "codemirror_mode": {
    "name": "ipython",
    "version": 3
   },
   "file_extension": ".py",
   "mimetype": "text/x-python",
   "name": "python",
   "nbconvert_exporter": "python",
   "pygments_lexer": "ipython3",
   "version": "3.8.8"
  }
 },
 "nbformat": 4,
 "nbformat_minor": 5
}
