{
 "cells": [
  {
   "cell_type": "code",
   "execution_count": 61,
   "id": "5e18bdd0",
   "metadata": {},
   "outputs": [],
   "source": [
    "import seaborn as sns\n",
    "import matplotlib.pyplot as plt\n",
    "import numpy as np\n",
    "from sklearn.metrics import roc_curve\n",
    "%matplotlib inline\n",
    "from sklearn.metrics import classification_report\n",
    "import pandas as pd\n",
    "from sklearn import preprocessing\n",
    "import numpy as np\n",
    "from sklearn.model_selection import train_test_split\n",
    "from sklearn import metrics\n",
    "from sklearn.linear_model import LogisticRegression\n",
    "from sklearn.metrics import roc_auc_score\n",
    "from sklearn.model_selection import cross_val_score"
   ]
  },
  {
   "cell_type": "code",
   "execution_count": 2,
   "id": "cec3e661",
   "metadata": {},
   "outputs": [],
   "source": [
    "data = pd.read_csv(\"beatlesrandom.csv\")\n",
    "data = data.rename(columns = {\"Unnamed: 0\":\"INDEX\"})"
   ]
  },
  {
   "cell_type": "code",
   "execution_count": 3,
   "id": "06b9dbe1",
   "metadata": {},
   "outputs": [],
   "source": [
    "data.drop(['INDEX'],inplace=True, axis=1)\n",
    "data.drop(['album_cover'],inplace=True, axis=1)"
   ]
  },
  {
   "cell_type": "code",
   "execution_count": 5,
   "id": "d7f41dd2",
   "metadata": {},
   "outputs": [
    {
     "data": {
      "text/html": [
       "<div>\n",
       "<style scoped>\n",
       "    .dataframe tbody tr th:only-of-type {\n",
       "        vertical-align: middle;\n",
       "    }\n",
       "\n",
       "    .dataframe tbody tr th {\n",
       "        vertical-align: top;\n",
       "    }\n",
       "\n",
       "    .dataframe thead th {\n",
       "        text-align: right;\n",
       "    }\n",
       "</style>\n",
       "<table border=\"1\" class=\"dataframe\">\n",
       "  <thead>\n",
       "    <tr style=\"text-align: right;\">\n",
       "      <th></th>\n",
       "      <th>danceability</th>\n",
       "      <th>energy</th>\n",
       "      <th>key</th>\n",
       "      <th>loudness</th>\n",
       "      <th>mode</th>\n",
       "      <th>speechiness</th>\n",
       "      <th>acousticness</th>\n",
       "      <th>instrumentalness</th>\n",
       "      <th>liveness</th>\n",
       "      <th>valence</th>\n",
       "      <th>tempo</th>\n",
       "      <th>time_signature</th>\n",
       "      <th>track_name</th>\n",
       "      <th>track_number</th>\n",
       "      <th>short_album_name</th>\n",
       "      <th>release_date</th>\n",
       "      <th>duration_seconds</th>\n",
       "      <th>track1</th>\n",
       "      <th>last_track</th>\n",
       "    </tr>\n",
       "  </thead>\n",
       "  <tbody>\n",
       "    <tr>\n",
       "      <th>0</th>\n",
       "      <td>0.294</td>\n",
       "      <td>0.407</td>\n",
       "      <td>0</td>\n",
       "      <td>-11.575</td>\n",
       "      <td>1</td>\n",
       "      <td>0.0308</td>\n",
       "      <td>0.0258</td>\n",
       "      <td>0.000219</td>\n",
       "      <td>0.0852</td>\n",
       "      <td>0.0378</td>\n",
       "      <td>101.052</td>\n",
       "      <td>4</td>\n",
       "      <td>Blue Jay Way</td>\n",
       "      <td>4</td>\n",
       "      <td>Magical Mystery Tour</td>\n",
       "      <td>1967-11-27</td>\n",
       "      <td>235.067</td>\n",
       "      <td>0</td>\n",
       "      <td>0</td>\n",
       "    </tr>\n",
       "    <tr>\n",
       "      <th>1</th>\n",
       "      <td>0.612</td>\n",
       "      <td>0.788</td>\n",
       "      <td>0</td>\n",
       "      <td>-6.251</td>\n",
       "      <td>1</td>\n",
       "      <td>0.0335</td>\n",
       "      <td>0.3670</td>\n",
       "      <td>0.000000</td>\n",
       "      <td>0.3820</td>\n",
       "      <td>0.9610</td>\n",
       "      <td>129.161</td>\n",
       "      <td>4</td>\n",
       "      <td>You Can't Do That</td>\n",
       "      <td>12</td>\n",
       "      <td>A Hard Day's Night</td>\n",
       "      <td>1964-07-10</td>\n",
       "      <td>154.893</td>\n",
       "      <td>0</td>\n",
       "      <td>0</td>\n",
       "    </tr>\n",
       "    <tr>\n",
       "      <th>2</th>\n",
       "      <td>0.422</td>\n",
       "      <td>0.656</td>\n",
       "      <td>4</td>\n",
       "      <td>-8.412</td>\n",
       "      <td>1</td>\n",
       "      <td>0.0397</td>\n",
       "      <td>0.0126</td>\n",
       "      <td>0.027900</td>\n",
       "      <td>0.2680</td>\n",
       "      <td>0.5490</td>\n",
       "      <td>173.930</td>\n",
       "      <td>3</td>\n",
       "      <td>Oh! Darling</td>\n",
       "      <td>4</td>\n",
       "      <td>Abbey Road</td>\n",
       "      <td>1969-09-26</td>\n",
       "      <td>207.240</td>\n",
       "      <td>0</td>\n",
       "      <td>0</td>\n",
       "    </tr>\n",
       "    <tr>\n",
       "      <th>3</th>\n",
       "      <td>0.538</td>\n",
       "      <td>0.478</td>\n",
       "      <td>11</td>\n",
       "      <td>-8.957</td>\n",
       "      <td>0</td>\n",
       "      <td>0.0388</td>\n",
       "      <td>0.4720</td>\n",
       "      <td>0.000000</td>\n",
       "      <td>0.1700</td>\n",
       "      <td>0.5270</td>\n",
       "      <td>59.004</td>\n",
       "      <td>4</td>\n",
       "      <td>Dig A Pony</td>\n",
       "      <td>2</td>\n",
       "      <td>Let It Be</td>\n",
       "      <td>1970-05-08</td>\n",
       "      <td>235.000</td>\n",
       "      <td>0</td>\n",
       "      <td>0</td>\n",
       "    </tr>\n",
       "    <tr>\n",
       "      <th>4</th>\n",
       "      <td>0.297</td>\n",
       "      <td>0.613</td>\n",
       "      <td>9</td>\n",
       "      <td>-9.065</td>\n",
       "      <td>1</td>\n",
       "      <td>0.0931</td>\n",
       "      <td>0.0385</td>\n",
       "      <td>0.000040</td>\n",
       "      <td>0.0734</td>\n",
       "      <td>0.3380</td>\n",
       "      <td>170.962</td>\n",
       "      <td>4</td>\n",
       "      <td>Magical Mystery Tour</td>\n",
       "      <td>1</td>\n",
       "      <td>Magical Mystery Tour</td>\n",
       "      <td>1967-11-27</td>\n",
       "      <td>170.107</td>\n",
       "      <td>1</td>\n",
       "      <td>0</td>\n",
       "    </tr>\n",
       "  </tbody>\n",
       "</table>\n",
       "</div>"
      ],
      "text/plain": [
       "   danceability  energy  key  loudness  mode  speechiness  acousticness  \\\n",
       "0         0.294   0.407    0   -11.575     1       0.0308        0.0258   \n",
       "1         0.612   0.788    0    -6.251     1       0.0335        0.3670   \n",
       "2         0.422   0.656    4    -8.412     1       0.0397        0.0126   \n",
       "3         0.538   0.478   11    -8.957     0       0.0388        0.4720   \n",
       "4         0.297   0.613    9    -9.065     1       0.0931        0.0385   \n",
       "\n",
       "   instrumentalness  liveness  valence    tempo  time_signature  \\\n",
       "0          0.000219    0.0852   0.0378  101.052               4   \n",
       "1          0.000000    0.3820   0.9610  129.161               4   \n",
       "2          0.027900    0.2680   0.5490  173.930               3   \n",
       "3          0.000000    0.1700   0.5270   59.004               4   \n",
       "4          0.000040    0.0734   0.3380  170.962               4   \n",
       "\n",
       "              track_name  track_number      short_album_name release_date  \\\n",
       "0          Blue Jay Way              4  Magical Mystery Tour   1967-11-27   \n",
       "1     You Can't Do That             12    A Hard Day's Night   1964-07-10   \n",
       "2           Oh! Darling              4            Abbey Road   1969-09-26   \n",
       "3            Dig A Pony              2             Let It Be   1970-05-08   \n",
       "4  Magical Mystery Tour              1  Magical Mystery Tour   1967-11-27   \n",
       "\n",
       "   duration_seconds  track1  last_track  \n",
       "0           235.067       0           0  \n",
       "1           154.893       0           0  \n",
       "2           207.240       0           0  \n",
       "3           235.000       0           0  \n",
       "4           170.107       1           0  "
      ]
     },
     "execution_count": 5,
     "metadata": {},
     "output_type": "execute_result"
    }
   ],
   "source": [
    "data.head()"
   ]
  },
  {
   "cell_type": "markdown",
   "id": "4eff3d97",
   "metadata": {},
   "source": [
    "# Logistic Regression \n",
    "Predict whether a song is first on the album."
   ]
  },
  {
   "cell_type": "code",
   "execution_count": 6,
   "id": "3dd1d00f",
   "metadata": {},
   "outputs": [
    {
     "data": {
      "text/plain": [
       "Index(['danceability', 'energy', 'key', 'loudness', 'mode', 'speechiness',\n",
       "       'acousticness', 'instrumentalness', 'liveness', 'valence', 'tempo',\n",
       "       'time_signature', 'track_name', 'track_number', 'short_album_name',\n",
       "       'release_date', 'duration_seconds', 'track1', 'last_track'],\n",
       "      dtype='object')"
      ]
     },
     "execution_count": 6,
     "metadata": {},
     "output_type": "execute_result"
    }
   ],
   "source": [
    "data.columns"
   ]
  },
  {
   "cell_type": "code",
   "execution_count": 16,
   "id": "43be4790",
   "metadata": {},
   "outputs": [],
   "source": [
    "features = data[['danceability', 'energy', 'key', 'loudness', 'mode', 'speechiness',\n",
    "       'acousticness', 'instrumentalness', 'liveness', 'valence', 'tempo',\n",
    "       'time_signature','duration_seconds']]\n",
    "label= data[\"track1\"]"
   ]
  },
  {
   "cell_type": "markdown",
   "id": "a54515e2",
   "metadata": {},
   "source": [
    "# Scale Features "
   ]
  },
  {
   "cell_type": "code",
   "execution_count": 25,
   "id": "432b7b30",
   "metadata": {},
   "outputs": [],
   "source": [
    "features = preprocessing.StandardScaler().fit(features).transform(features.astype(float))"
   ]
  },
  {
   "cell_type": "code",
   "execution_count": 64,
   "id": "53935632",
   "metadata": {},
   "outputs": [],
   "source": [
    "X_train, X_test, y_train, y_test = train_test_split(features, label, test_size = 0.20,random_state=1,stratify=label)"
   ]
  },
  {
   "cell_type": "markdown",
   "id": "da57c13a",
   "metadata": {},
   "source": [
    "# Model\n",
    "Decision Boundry is 50% "
   ]
  },
  {
   "cell_type": "code",
   "execution_count": 65,
   "id": "1575f53f",
   "metadata": {},
   "outputs": [],
   "source": [
    "logreg=LogisticRegression()"
   ]
  },
  {
   "cell_type": "code",
   "execution_count": 66,
   "id": "3bc14741",
   "metadata": {},
   "outputs": [
    {
     "data": {
      "text/plain": [
       "LogisticRegression()"
      ]
     },
     "execution_count": 66,
     "metadata": {},
     "output_type": "execute_result"
    }
   ],
   "source": [
    "logreg.fit(X_train,y_train)"
   ]
  },
  {
   "cell_type": "code",
   "execution_count": 67,
   "id": "f88eec6c",
   "metadata": {},
   "outputs": [],
   "source": [
    "prediction = logreg.predict(X_test)"
   ]
  },
  {
   "cell_type": "markdown",
   "id": "82c73fa7",
   "metadata": {},
   "source": [
    "# ROC CURVE "
   ]
  },
  {
   "cell_type": "code",
   "execution_count": 68,
   "id": "03f96edf",
   "metadata": {},
   "outputs": [],
   "source": [
    "prediction_prob = logreg.predict_proba(X_test)[:,1]\n",
    "fpr,tpr,thresholds = roc_curve(y_test,prediction_prob)"
   ]
  },
  {
   "cell_type": "markdown",
   "id": "e45b4990",
   "metadata": {},
   "source": [
    "Returns Probability of Predicted Labels being 1 (Positive)"
   ]
  },
  {
   "cell_type": "code",
   "execution_count": 69,
   "id": "d525d4c2",
   "metadata": {},
   "outputs": [
    {
     "data": {
      "image/png": "[encoded data removed]",
      "text/plain": [
       "<Figure size 432x288 with 1 Axes>"
      ]
     },
     "metadata": {
      "needs_background": "light"
     },
     "output_type": "display_data"
    }
   ],
   "source": [
    "plt.plot([0,1],[0,1],'k--')\n",
    "\n",
    "plt.plot(fpr,tpr,label=\"Logistic Regression\")\n",
    "plt.xlabel(\"False Positive Rate\")\n",
    "plt.ylabel(\"True Positive Rate\")\n",
    "plt.title(\"Logistic Regression ROC Curve\")\n",
    "plt.legend()\n",
    "plt.show();"
   ]
  },
  {
   "cell_type": "markdown",
   "id": "f3ff0836",
   "metadata": {},
   "source": [
    "# Compute ROC_AUC score"
   ]
  },
  {
   "cell_type": "code",
   "execution_count": 70,
   "id": "e4f6927b",
   "metadata": {},
   "outputs": [
    {
     "name": "stdout",
     "output_type": "stream",
     "text": [
      "0.69\n"
     ]
    }
   ],
   "source": [
    "print(round(roc_auc_score(y_test,prediction_prob),2))"
   ]
  },
  {
   "cell_type": "markdown",
   "id": "6ca7bb76",
   "metadata": {},
   "source": [
    "# AUC with cross validation"
   ]
  },
  {
   "cell_type": "code",
   "execution_count": 71,
   "id": "993205a9",
   "metadata": {},
   "outputs": [],
   "source": [
    "cv_scores = cross_val_score(logreg,features, label,cv=10,scoring='roc_auc')"
   ]
  },
  {
   "cell_type": "code",
   "execution_count": 72,
   "id": "19fc9fed",
   "metadata": {},
   "outputs": [
    {
     "name": "stdout",
     "output_type": "stream",
     "text": [
      "[0.5        0.38888889 0.38888889 0.83333333 0.44444444 0.23529412\n",
      " 0.55882353 0.82352941 0.32352941 0.88235294]\n"
     ]
    }
   ],
   "source": [
    "print(cv_scores)"
   ]
  },
  {
   "cell_type": "code",
   "execution_count": 73,
   "id": "615854a7",
   "metadata": {},
   "outputs": [
    {
     "name": "stdout",
     "output_type": "stream",
     "text": [
      "Accuracy of model is 0.9210526315789473\n"
     ]
    }
   ],
   "source": [
    "print(\"Accuracy of model is\",metrics.accuracy_score(y_test, prediction))"
   ]
  },
  {
   "cell_type": "code",
   "execution_count": 74,
   "id": "5a5e08ec",
   "metadata": {},
   "outputs": [
    {
     "name": "stdout",
     "output_type": "stream",
     "text": [
      "Accuracy of training is 0.9210526315789473\n"
     ]
    }
   ],
   "source": [
    "print(\"Accuracy of training is\",logreg.score(X_train,y_train))"
   ]
  },
  {
   "cell_type": "code",
   "execution_count": 76,
   "id": "69977801",
   "metadata": {},
   "outputs": [
    {
     "name": "stdout",
     "output_type": "stream",
     "text": [
      "              precision    recall  f1-score   support\n",
      "\n",
      "           0       0.92      1.00      0.96        35\n",
      "           1       0.00      0.00      0.00         3\n",
      "\n",
      "    accuracy                           0.92        38\n",
      "   macro avg       0.46      0.50      0.48        38\n",
      "weighted avg       0.85      0.92      0.88        38\n",
      "\n"
     ]
    }
   ],
   "source": [
    "print(classification_report(y_test, prediction,zero_division=0))"
   ]
  },
  {
   "cell_type": "markdown",
   "id": "7d8befb1",
   "metadata": {},
   "source": [
    "The test model only had 3 instances of a song being the first track and failed at correctly identifying those instances.\n",
    "The model only had great accuracy because of the very low amount of songs that were actually first track.\n",
    "We only 14 albums = 14 first songs. \n",
    "\n",
    "This logistic regressin wasn't sucessful to do the imbalance between the amount of songs that can be classified as a first song. "
   ]
  },
  {
   "cell_type": "code",
   "execution_count": 85,
   "id": "377a9823",
   "metadata": {},
   "outputs": [
    {
     "data": {
      "text/plain": [
       "The Beatles                              20\n",
       "Sgt. Pepper's Lonely Hearts Club Band    20\n",
       "Abbey Road                               17\n",
       "Please Please Me                         14\n",
       "Revolver                                 14\n",
       "With The Beatles                         14\n",
       "Rubber Soul                              14\n",
       "Beatles For Sale                         14\n",
       "Help!                                    14\n",
       "A Hard Day's Night                       13\n",
       "Yellow Submarine                         13\n",
       "Let It Be                                12\n",
       "Magical Mystery Tour                     11\n",
       "Name: short_album_name, dtype: int64"
      ]
     },
     "execution_count": 85,
     "metadata": {},
     "output_type": "execute_result"
    }
   ],
   "source": [
    "data[\"short_album_name\"].value_counts()"
   ]
  },
  {
   "cell_type": "markdown",
   "id": "49f83ca8",
   "metadata": {},
   "source": [
    "There is another feature in the data set Mode which is binary classificaton.\n",
    "Going to try a logistic mode using that as the target variable. "
   ]
  },
  {
   "cell_type": "markdown",
   "id": "463ed750",
   "metadata": {},
   "source": [
    "# Logistic Regression\n",
    "Predict whether a song is major or minor based on audio features "
   ]
  },
  {
   "cell_type": "code",
   "execution_count": 86,
   "id": "87c57a72",
   "metadata": {},
   "outputs": [],
   "source": [
    "features2 = data[['danceability', 'energy', 'key', 'loudness', 'speechiness',\n",
    "       'acousticness', 'instrumentalness', 'liveness', 'valence', 'tempo',\n",
    "       'time_signature','duration_seconds']]\n",
    "label2= data[\"mode\"]"
   ]
  },
  {
   "cell_type": "code",
   "execution_count": 87,
   "id": "d15c0333",
   "metadata": {},
   "outputs": [],
   "source": [
    "features2 = preprocessing.StandardScaler().fit(features2).transform(features2.astype(float))"
   ]
  },
  {
   "cell_type": "code",
   "execution_count": 89,
   "id": "25224969",
   "metadata": {},
   "outputs": [],
   "source": [
    "X_train, X_test, y_train, y_test = train_test_split(features2, label2, test_size = 0.20,random_state=1,stratify=label2)"
   ]
  },
  {
   "cell_type": "code",
   "execution_count": 90,
   "id": "6924012e",
   "metadata": {},
   "outputs": [],
   "source": [
    "logreg=LogisticRegression()"
   ]
  },
  {
   "cell_type": "code",
   "execution_count": 91,
   "id": "2564e714",
   "metadata": {},
   "outputs": [
    {
     "data": {
      "text/plain": [
       "LogisticRegression()"
      ]
     },
     "execution_count": 91,
     "metadata": {},
     "output_type": "execute_result"
    }
   ],
   "source": [
    "logreg.fit(X_train,y_train)"
   ]
  },
  {
   "cell_type": "code",
   "execution_count": 92,
   "id": "ea73a6cc",
   "metadata": {},
   "outputs": [],
   "source": [
    "prediction = logreg.predict(X_test)"
   ]
  },
  {
   "cell_type": "code",
   "execution_count": 93,
   "id": "dd2896d5",
   "metadata": {},
   "outputs": [],
   "source": [
    "prediction_prob = logreg.predict_proba(X_test)[:,1]\n",
    "fpr,tpr,thresholds = roc_curve(y_test,prediction_prob)"
   ]
  },
  {
   "cell_type": "code",
   "execution_count": 94,
   "id": "19d5d751",
   "metadata": {},
   "outputs": [
    {
     "data": {
      "image/png": "[encoded data removed]",
      "text/plain": [
       "<Figure size 432x288 with 1 Axes>"
      ]
     },
     "metadata": {
      "needs_background": "light"
     },
     "output_type": "display_data"
    }
   ],
   "source": [
    "plt.plot([0,1],[0,1],'k--')\n",
    "\n",
    "plt.plot(fpr,tpr,label=\"Logistic Regression\")\n",
    "plt.xlabel(\"False Positive Rate\")\n",
    "plt.ylabel(\"True Positive Rate\")\n",
    "plt.title(\"Logistic Regression ROC Curve\")\n",
    "plt.legend()\n",
    "plt.show();"
   ]
  },
  {
   "cell_type": "markdown",
   "id": "4ed811f2",
   "metadata": {},
   "source": [
    "# Compute ROC_AUC score"
   ]
  },
  {
   "cell_type": "code",
   "execution_count": 96,
   "id": "98a3181a",
   "metadata": {},
   "outputs": [
    {
     "name": "stdout",
     "output_type": "stream",
     "text": [
      "[0.60416667 0.89583333 0.4375     0.55       0.53333333 0.33333333\n",
      " 0.65       0.56666667 0.58333333 0.6       ]\n"
     ]
    }
   ],
   "source": [
    "cv_scores = cross_val_score(logreg,features2, label2,cv=10,scoring='roc_auc')\n",
    "print(cv_scores)"
   ]
  },
  {
   "cell_type": "code",
   "execution_count": 97,
   "id": "19ecdbf2",
   "metadata": {},
   "outputs": [
    {
     "name": "stdout",
     "output_type": "stream",
     "text": [
      "Accuracy of model is 0.8157894736842105\n"
     ]
    }
   ],
   "source": [
    "print(\"Accuracy of model is\",metrics.accuracy_score(y_test, prediction))"
   ]
  },
  {
   "cell_type": "code",
   "execution_count": 98,
   "id": "0e3d5435",
   "metadata": {},
   "outputs": [
    {
     "name": "stdout",
     "output_type": "stream",
     "text": [
      "Accuracy of training is 0.8026315789473685\n"
     ]
    }
   ],
   "source": [
    "print(\"Accuracy of training is\",logreg.score(X_train,y_train))"
   ]
  },
  {
   "cell_type": "code",
   "execution_count": 99,
   "id": "2f6514e1",
   "metadata": {},
   "outputs": [
    {
     "name": "stdout",
     "output_type": "stream",
     "text": [
      "              precision    recall  f1-score   support\n",
      "\n",
      "           0       0.00      0.00      0.00         7\n",
      "           1       0.82      1.00      0.90        31\n",
      "\n",
      "    accuracy                           0.82        38\n",
      "   macro avg       0.41      0.50      0.45        38\n",
      "weighted avg       0.67      0.82      0.73        38\n",
      "\n"
     ]
    }
   ],
   "source": [
    "print(classification_report(y_test, prediction,zero_division=0))"
   ]
  },
  {
   "cell_type": "code",
   "execution_count": 101,
   "id": "80c42f37",
   "metadata": {},
   "outputs": [],
   "source": [
    "y_testarray = np.array(y_test)"
   ]
  },
  {
   "cell_type": "code",
   "execution_count": 103,
   "id": "8bd436b1",
   "metadata": {},
   "outputs": [
    {
     "data": {
      "text/html": [
       "<div>\n",
       "<style scoped>\n",
       "    .dataframe tbody tr th:only-of-type {\n",
       "        vertical-align: middle;\n",
       "    }\n",
       "\n",
       "    .dataframe tbody tr th {\n",
       "        vertical-align: top;\n",
       "    }\n",
       "\n",
       "    .dataframe thead th {\n",
       "        text-align: right;\n",
       "    }\n",
       "</style>\n",
       "<table border=\"1\" class=\"dataframe\">\n",
       "  <thead>\n",
       "    <tr style=\"text-align: right;\">\n",
       "      <th></th>\n",
       "      <th>Actual Mode</th>\n",
       "    </tr>\n",
       "  </thead>\n",
       "  <tbody>\n",
       "    <tr>\n",
       "      <th>1</th>\n",
       "      <td>1</td>\n",
       "    </tr>\n",
       "    <tr>\n",
       "      <th>1</th>\n",
       "      <td>1</td>\n",
       "    </tr>\n",
       "    <tr>\n",
       "      <th>1</th>\n",
       "      <td>1</td>\n",
       "    </tr>\n",
       "    <tr>\n",
       "      <th>1</th>\n",
       "      <td>0</td>\n",
       "    </tr>\n",
       "    <tr>\n",
       "      <th>1</th>\n",
       "      <td>1</td>\n",
       "    </tr>\n",
       "    <tr>\n",
       "      <th>1</th>\n",
       "      <td>0</td>\n",
       "    </tr>\n",
       "    <tr>\n",
       "      <th>1</th>\n",
       "      <td>1</td>\n",
       "    </tr>\n",
       "    <tr>\n",
       "      <th>1</th>\n",
       "      <td>1</td>\n",
       "    </tr>\n",
       "    <tr>\n",
       "      <th>1</th>\n",
       "      <td>1</td>\n",
       "    </tr>\n",
       "    <tr>\n",
       "      <th>1</th>\n",
       "      <td>1</td>\n",
       "    </tr>\n",
       "    <tr>\n",
       "      <th>1</th>\n",
       "      <td>1</td>\n",
       "    </tr>\n",
       "    <tr>\n",
       "      <th>1</th>\n",
       "      <td>1</td>\n",
       "    </tr>\n",
       "    <tr>\n",
       "      <th>1</th>\n",
       "      <td>1</td>\n",
       "    </tr>\n",
       "    <tr>\n",
       "      <th>1</th>\n",
       "      <td>1</td>\n",
       "    </tr>\n",
       "    <tr>\n",
       "      <th>1</th>\n",
       "      <td>1</td>\n",
       "    </tr>\n",
       "    <tr>\n",
       "      <th>1</th>\n",
       "      <td>1</td>\n",
       "    </tr>\n",
       "    <tr>\n",
       "      <th>1</th>\n",
       "      <td>1</td>\n",
       "    </tr>\n",
       "    <tr>\n",
       "      <th>1</th>\n",
       "      <td>1</td>\n",
       "    </tr>\n",
       "    <tr>\n",
       "      <th>1</th>\n",
       "      <td>1</td>\n",
       "    </tr>\n",
       "    <tr>\n",
       "      <th>1</th>\n",
       "      <td>1</td>\n",
       "    </tr>\n",
       "    <tr>\n",
       "      <th>1</th>\n",
       "      <td>1</td>\n",
       "    </tr>\n",
       "    <tr>\n",
       "      <th>1</th>\n",
       "      <td>0</td>\n",
       "    </tr>\n",
       "    <tr>\n",
       "      <th>1</th>\n",
       "      <td>1</td>\n",
       "    </tr>\n",
       "    <tr>\n",
       "      <th>1</th>\n",
       "      <td>1</td>\n",
       "    </tr>\n",
       "    <tr>\n",
       "      <th>1</th>\n",
       "      <td>0</td>\n",
       "    </tr>\n",
       "    <tr>\n",
       "      <th>1</th>\n",
       "      <td>1</td>\n",
       "    </tr>\n",
       "    <tr>\n",
       "      <th>1</th>\n",
       "      <td>1</td>\n",
       "    </tr>\n",
       "    <tr>\n",
       "      <th>1</th>\n",
       "      <td>1</td>\n",
       "    </tr>\n",
       "    <tr>\n",
       "      <th>1</th>\n",
       "      <td>1</td>\n",
       "    </tr>\n",
       "    <tr>\n",
       "      <th>1</th>\n",
       "      <td>1</td>\n",
       "    </tr>\n",
       "    <tr>\n",
       "      <th>1</th>\n",
       "      <td>1</td>\n",
       "    </tr>\n",
       "    <tr>\n",
       "      <th>1</th>\n",
       "      <td>1</td>\n",
       "    </tr>\n",
       "    <tr>\n",
       "      <th>1</th>\n",
       "      <td>1</td>\n",
       "    </tr>\n",
       "    <tr>\n",
       "      <th>1</th>\n",
       "      <td>0</td>\n",
       "    </tr>\n",
       "    <tr>\n",
       "      <th>1</th>\n",
       "      <td>0</td>\n",
       "    </tr>\n",
       "    <tr>\n",
       "      <th>1</th>\n",
       "      <td>1</td>\n",
       "    </tr>\n",
       "    <tr>\n",
       "      <th>1</th>\n",
       "      <td>1</td>\n",
       "    </tr>\n",
       "    <tr>\n",
       "      <th>1</th>\n",
       "      <td>0</td>\n",
       "    </tr>\n",
       "  </tbody>\n",
       "</table>\n",
       "</div>"
      ],
      "text/plain": [
       "   Actual Mode\n",
       "1            1\n",
       "1            1\n",
       "1            1\n",
       "1            0\n",
       "1            1\n",
       "1            0\n",
       "1            1\n",
       "1            1\n",
       "1            1\n",
       "1            1\n",
       "1            1\n",
       "1            1\n",
       "1            1\n",
       "1            1\n",
       "1            1\n",
       "1            1\n",
       "1            1\n",
       "1            1\n",
       "1            1\n",
       "1            1\n",
       "1            1\n",
       "1            0\n",
       "1            1\n",
       "1            1\n",
       "1            0\n",
       "1            1\n",
       "1            1\n",
       "1            1\n",
       "1            1\n",
       "1            1\n",
       "1            1\n",
       "1            1\n",
       "1            1\n",
       "1            0\n",
       "1            0\n",
       "1            1\n",
       "1            1\n",
       "1            0"
      ]
     },
     "execution_count": 103,
     "metadata": {},
     "output_type": "execute_result"
    }
   ],
   "source": [
    "accuracydf=pd.DataFrame(y_testarray,prediction)\n",
    "accuracydf.rename(columns = {0:'Actual Mode'}, inplace = True)\n",
    "accuracydf"
   ]
  },
  {
   "cell_type": "markdown",
   "id": "3ec488ff",
   "metadata": {},
   "source": [
    "The error from our model was the inability to predict 0 when the correct classfication was 0.\n",
    "Same problem as before, our model is unable to predict any instances of 0 or attempt to."
   ]
  }
 ],
 "metadata": {
  "kernelspec": {
   "display_name": "Python 3",
   "language": "python",
   "name": "python3"
  },
  "language_info": {
   "codemirror_mode": {
    "name": "ipython",
    "version": 3
   },
   "file_extension": ".py",
   "mimetype": "text/x-python",
   "name": "python",
   "nbconvert_exporter": "python",
   "pygments_lexer": "ipython3",
   "version": "3.8.8"
  }
 },
 "nbformat": 4,
 "nbformat_minor": 5
}
